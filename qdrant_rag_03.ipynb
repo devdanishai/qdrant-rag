{
  "nbformat": 4,
  "nbformat_minor": 0,
  "metadata": {
    "colab": {
      "provenance": []
    },
    "kernelspec": {
      "name": "python3",
      "display_name": "Python 3"
    },
    "language_info": {
      "name": "python"
    }
  },
  "cells": [
    {
      "cell_type": "markdown",
      "source": [
        "Note: original code has openai==1.23.6 but it has error so i used openai==0.28"
      ],
      "metadata": {
        "id": "r3Dz2tQat4QB"
      }
    },
    {
      "cell_type": "code",
      "source": [
        "!pip install python-dotenv==1.0.1 qdrant-client==1.9.0 openai==0.28 transformers==4.40.1 sentence-transformers==2.7.0 datasets==2.19.0"
      ],
      "metadata": {
        "id": "YT1bCaX5krsY",
        "colab": {
          "base_uri": "https://localhost:8080/"
        },
        "outputId": "2a24667d-0dc2-4108-bda7-a51c4f21300a"
      },
      "execution_count": 1,
      "outputs": [
        {
          "output_type": "stream",
          "name": "stdout",
          "text": [
            "Collecting python-dotenv==1.0.1\n",
            "  Downloading python_dotenv-1.0.1-py3-none-any.whl.metadata (23 kB)\n",
            "Collecting qdrant-client==1.9.0\n",
            "  Downloading qdrant_client-1.9.0-py3-none-any.whl.metadata (9.5 kB)\n",
            "Collecting openai==0.28\n",
            "  Downloading openai-0.28.0-py3-none-any.whl.metadata (13 kB)\n",
            "Collecting transformers==4.40.1\n",
            "  Downloading transformers-4.40.1-py3-none-any.whl.metadata (137 kB)\n",
            "\u001b[2K     \u001b[90m━━━━━━━━━━━━━━━━━━━━━━━━━━━━━━━━━━━━━━━━\u001b[0m \u001b[32m138.0/138.0 kB\u001b[0m \u001b[31m6.1 MB/s\u001b[0m eta \u001b[36m0:00:00\u001b[0m\n",
            "\u001b[?25hCollecting sentence-transformers==2.7.0\n",
            "  Downloading sentence_transformers-2.7.0-py3-none-any.whl.metadata (11 kB)\n",
            "Collecting datasets==2.19.0\n",
            "  Downloading datasets-2.19.0-py3-none-any.whl.metadata (19 kB)\n",
            "Requirement already satisfied: grpcio>=1.41.0 in /usr/local/lib/python3.10/dist-packages (from qdrant-client==1.9.0) (1.68.1)\n",
            "Collecting grpcio-tools>=1.41.0 (from qdrant-client==1.9.0)\n",
            "  Downloading grpcio_tools-1.68.1-cp310-cp310-manylinux_2_17_x86_64.manylinux2014_x86_64.whl.metadata (5.3 kB)\n",
            "Requirement already satisfied: httpx>=0.20.0 in /usr/local/lib/python3.10/dist-packages (from httpx[http2]>=0.20.0->qdrant-client==1.9.0) (0.28.1)\n",
            "Requirement already satisfied: numpy>=1.21 in /usr/local/lib/python3.10/dist-packages (from qdrant-client==1.9.0) (1.26.4)\n",
            "Collecting portalocker<3.0.0,>=2.7.0 (from qdrant-client==1.9.0)\n",
            "  Downloading portalocker-2.10.1-py3-none-any.whl.metadata (8.5 kB)\n",
            "Requirement already satisfied: pydantic>=1.10.8 in /usr/local/lib/python3.10/dist-packages (from qdrant-client==1.9.0) (2.10.3)\n",
            "Requirement already satisfied: urllib3<3,>=1.26.14 in /usr/local/lib/python3.10/dist-packages (from qdrant-client==1.9.0) (2.2.3)\n",
            "Requirement already satisfied: requests>=2.20 in /usr/local/lib/python3.10/dist-packages (from openai==0.28) (2.32.3)\n",
            "Requirement already satisfied: tqdm in /usr/local/lib/python3.10/dist-packages (from openai==0.28) (4.66.6)\n",
            "Requirement already satisfied: aiohttp in /usr/local/lib/python3.10/dist-packages (from openai==0.28) (3.11.10)\n",
            "Requirement already satisfied: filelock in /usr/local/lib/python3.10/dist-packages (from transformers==4.40.1) (3.16.1)\n",
            "Requirement already satisfied: huggingface-hub<1.0,>=0.19.3 in /usr/local/lib/python3.10/dist-packages (from transformers==4.40.1) (0.26.5)\n",
            "Requirement already satisfied: packaging>=20.0 in /usr/local/lib/python3.10/dist-packages (from transformers==4.40.1) (24.2)\n",
            "Requirement already satisfied: pyyaml>=5.1 in /usr/local/lib/python3.10/dist-packages (from transformers==4.40.1) (6.0.2)\n",
            "Requirement already satisfied: regex!=2019.12.17 in /usr/local/lib/python3.10/dist-packages (from transformers==4.40.1) (2024.9.11)\n",
            "Collecting tokenizers<0.20,>=0.19 (from transformers==4.40.1)\n",
            "  Downloading tokenizers-0.19.1-cp310-cp310-manylinux_2_17_x86_64.manylinux2014_x86_64.whl.metadata (6.7 kB)\n",
            "Requirement already satisfied: safetensors>=0.4.1 in /usr/local/lib/python3.10/dist-packages (from transformers==4.40.1) (0.4.5)\n",
            "Requirement already satisfied: torch>=1.11.0 in /usr/local/lib/python3.10/dist-packages (from sentence-transformers==2.7.0) (2.5.1+cu121)\n",
            "Requirement already satisfied: scikit-learn in /usr/local/lib/python3.10/dist-packages (from sentence-transformers==2.7.0) (1.5.2)\n",
            "Requirement already satisfied: scipy in /usr/local/lib/python3.10/dist-packages (from sentence-transformers==2.7.0) (1.13.1)\n",
            "Requirement already satisfied: Pillow in /usr/local/lib/python3.10/dist-packages (from sentence-transformers==2.7.0) (11.0.0)\n",
            "Requirement already satisfied: pyarrow>=12.0.0 in /usr/local/lib/python3.10/dist-packages (from datasets==2.19.0) (17.0.0)\n",
            "Collecting pyarrow-hotfix (from datasets==2.19.0)\n",
            "  Downloading pyarrow_hotfix-0.6-py3-none-any.whl.metadata (3.6 kB)\n",
            "Collecting dill<0.3.9,>=0.3.0 (from datasets==2.19.0)\n",
            "  Downloading dill-0.3.8-py3-none-any.whl.metadata (10 kB)\n",
            "Requirement already satisfied: pandas in /usr/local/lib/python3.10/dist-packages (from datasets==2.19.0) (2.2.2)\n",
            "Collecting xxhash (from datasets==2.19.0)\n",
            "  Downloading xxhash-3.5.0-cp310-cp310-manylinux_2_17_x86_64.manylinux2014_x86_64.whl.metadata (12 kB)\n",
            "Collecting multiprocess (from datasets==2.19.0)\n",
            "  Downloading multiprocess-0.70.17-py310-none-any.whl.metadata (7.2 kB)\n",
            "Collecting fsspec<=2024.3.1,>=2023.1.0 (from fsspec[http]<=2024.3.1,>=2023.1.0->datasets==2.19.0)\n",
            "  Downloading fsspec-2024.3.1-py3-none-any.whl.metadata (6.8 kB)\n",
            "Requirement already satisfied: aiohappyeyeballs>=2.3.0 in /usr/local/lib/python3.10/dist-packages (from aiohttp->openai==0.28) (2.4.4)\n",
            "Requirement already satisfied: aiosignal>=1.1.2 in /usr/local/lib/python3.10/dist-packages (from aiohttp->openai==0.28) (1.3.2)\n",
            "Requirement already satisfied: async-timeout<6.0,>=4.0 in /usr/local/lib/python3.10/dist-packages (from aiohttp->openai==0.28) (4.0.3)\n",
            "Requirement already satisfied: attrs>=17.3.0 in /usr/local/lib/python3.10/dist-packages (from aiohttp->openai==0.28) (24.2.0)\n",
            "Requirement already satisfied: frozenlist>=1.1.1 in /usr/local/lib/python3.10/dist-packages (from aiohttp->openai==0.28) (1.5.0)\n",
            "Requirement already satisfied: multidict<7.0,>=4.5 in /usr/local/lib/python3.10/dist-packages (from aiohttp->openai==0.28) (6.1.0)\n",
            "Requirement already satisfied: propcache>=0.2.0 in /usr/local/lib/python3.10/dist-packages (from aiohttp->openai==0.28) (0.2.1)\n",
            "Requirement already satisfied: yarl<2.0,>=1.17.0 in /usr/local/lib/python3.10/dist-packages (from aiohttp->openai==0.28) (1.18.3)\n",
            "Collecting protobuf<6.0dev,>=5.26.1 (from grpcio-tools>=1.41.0->qdrant-client==1.9.0)\n",
            "  Downloading protobuf-5.29.1-cp38-abi3-manylinux2014_x86_64.whl.metadata (592 bytes)\n",
            "Requirement already satisfied: setuptools in /usr/local/lib/python3.10/dist-packages (from grpcio-tools>=1.41.0->qdrant-client==1.9.0) (75.1.0)\n",
            "Requirement already satisfied: anyio in /usr/local/lib/python3.10/dist-packages (from httpx>=0.20.0->httpx[http2]>=0.20.0->qdrant-client==1.9.0) (3.7.1)\n",
            "Requirement already satisfied: certifi in /usr/local/lib/python3.10/dist-packages (from httpx>=0.20.0->httpx[http2]>=0.20.0->qdrant-client==1.9.0) (2024.8.30)\n",
            "Requirement already satisfied: httpcore==1.* in /usr/local/lib/python3.10/dist-packages (from httpx>=0.20.0->httpx[http2]>=0.20.0->qdrant-client==1.9.0) (1.0.7)\n",
            "Requirement already satisfied: idna in /usr/local/lib/python3.10/dist-packages (from httpx>=0.20.0->httpx[http2]>=0.20.0->qdrant-client==1.9.0) (3.10)\n",
            "Requirement already satisfied: h11<0.15,>=0.13 in /usr/local/lib/python3.10/dist-packages (from httpcore==1.*->httpx>=0.20.0->httpx[http2]>=0.20.0->qdrant-client==1.9.0) (0.14.0)\n",
            "Collecting h2<5,>=3 (from httpx[http2]>=0.20.0->qdrant-client==1.9.0)\n",
            "  Downloading h2-4.1.0-py3-none-any.whl.metadata (3.6 kB)\n",
            "Requirement already satisfied: typing-extensions>=3.7.4.3 in /usr/local/lib/python3.10/dist-packages (from huggingface-hub<1.0,>=0.19.3->transformers==4.40.1) (4.12.2)\n",
            "Requirement already satisfied: annotated-types>=0.6.0 in /usr/local/lib/python3.10/dist-packages (from pydantic>=1.10.8->qdrant-client==1.9.0) (0.7.0)\n",
            "Requirement already satisfied: pydantic-core==2.27.1 in /usr/local/lib/python3.10/dist-packages (from pydantic>=1.10.8->qdrant-client==1.9.0) (2.27.1)\n",
            "Requirement already satisfied: charset-normalizer<4,>=2 in /usr/local/lib/python3.10/dist-packages (from requests>=2.20->openai==0.28) (3.4.0)\n",
            "Requirement already satisfied: networkx in /usr/local/lib/python3.10/dist-packages (from torch>=1.11.0->sentence-transformers==2.7.0) (3.4.2)\n",
            "Requirement already satisfied: jinja2 in /usr/local/lib/python3.10/dist-packages (from torch>=1.11.0->sentence-transformers==2.7.0) (3.1.4)\n",
            "Requirement already satisfied: sympy==1.13.1 in /usr/local/lib/python3.10/dist-packages (from torch>=1.11.0->sentence-transformers==2.7.0) (1.13.1)\n",
            "Requirement already satisfied: mpmath<1.4,>=1.1.0 in /usr/local/lib/python3.10/dist-packages (from sympy==1.13.1->torch>=1.11.0->sentence-transformers==2.7.0) (1.3.0)\n",
            "INFO: pip is looking at multiple versions of multiprocess to determine which version is compatible with other requirements. This could take a while.\n",
            "Collecting multiprocess (from datasets==2.19.0)\n",
            "  Downloading multiprocess-0.70.16-py310-none-any.whl.metadata (7.2 kB)\n",
            "Requirement already satisfied: python-dateutil>=2.8.2 in /usr/local/lib/python3.10/dist-packages (from pandas->datasets==2.19.0) (2.8.2)\n",
            "Requirement already satisfied: pytz>=2020.1 in /usr/local/lib/python3.10/dist-packages (from pandas->datasets==2.19.0) (2024.2)\n",
            "Requirement already satisfied: tzdata>=2022.7 in /usr/local/lib/python3.10/dist-packages (from pandas->datasets==2.19.0) (2024.2)\n",
            "Requirement already satisfied: joblib>=1.2.0 in /usr/local/lib/python3.10/dist-packages (from scikit-learn->sentence-transformers==2.7.0) (1.4.2)\n",
            "Requirement already satisfied: threadpoolctl>=3.1.0 in /usr/local/lib/python3.10/dist-packages (from scikit-learn->sentence-transformers==2.7.0) (3.5.0)\n",
            "Collecting hyperframe<7,>=6.0 (from h2<5,>=3->httpx[http2]>=0.20.0->qdrant-client==1.9.0)\n",
            "  Downloading hyperframe-6.0.1-py3-none-any.whl.metadata (2.7 kB)\n",
            "Collecting hpack<5,>=4.0 (from h2<5,>=3->httpx[http2]>=0.20.0->qdrant-client==1.9.0)\n",
            "  Downloading hpack-4.0.0-py3-none-any.whl.metadata (2.5 kB)\n",
            "Requirement already satisfied: six>=1.5 in /usr/local/lib/python3.10/dist-packages (from python-dateutil>=2.8.2->pandas->datasets==2.19.0) (1.17.0)\n",
            "Requirement already satisfied: sniffio>=1.1 in /usr/local/lib/python3.10/dist-packages (from anyio->httpx>=0.20.0->httpx[http2]>=0.20.0->qdrant-client==1.9.0) (1.3.1)\n",
            "Requirement already satisfied: exceptiongroup in /usr/local/lib/python3.10/dist-packages (from anyio->httpx>=0.20.0->httpx[http2]>=0.20.0->qdrant-client==1.9.0) (1.2.2)\n",
            "Requirement already satisfied: MarkupSafe>=2.0 in /usr/local/lib/python3.10/dist-packages (from jinja2->torch>=1.11.0->sentence-transformers==2.7.0) (3.0.2)\n",
            "Downloading python_dotenv-1.0.1-py3-none-any.whl (19 kB)\n",
            "Downloading qdrant_client-1.9.0-py3-none-any.whl (229 kB)\n",
            "\u001b[2K   \u001b[90m━━━━━━━━━━━━━━━━━━━━━━━━━━━━━━━━━━━━━━━━\u001b[0m \u001b[32m229.3/229.3 kB\u001b[0m \u001b[31m12.8 MB/s\u001b[0m eta \u001b[36m0:00:00\u001b[0m\n",
            "\u001b[?25hDownloading openai-0.28.0-py3-none-any.whl (76 kB)\n",
            "\u001b[2K   \u001b[90m━━━━━━━━━━━━━━━━━━━━━━━━━━━━━━━━━━━━━━━━\u001b[0m \u001b[32m76.5/76.5 kB\u001b[0m \u001b[31m5.7 MB/s\u001b[0m eta \u001b[36m0:00:00\u001b[0m\n",
            "\u001b[?25hDownloading transformers-4.40.1-py3-none-any.whl (9.0 MB)\n",
            "\u001b[2K   \u001b[90m━━━━━━━━━━━━━━━━━━━━━━━━━━━━━━━━━━━━━━━━\u001b[0m \u001b[32m9.0/9.0 MB\u001b[0m \u001b[31m46.2 MB/s\u001b[0m eta \u001b[36m0:00:00\u001b[0m\n",
            "\u001b[?25hDownloading sentence_transformers-2.7.0-py3-none-any.whl (171 kB)\n",
            "\u001b[2K   \u001b[90m━━━━━━━━━━━━━━━━━━━━━━━━━━━━━━━━━━━━━━━━\u001b[0m \u001b[32m171.5/171.5 kB\u001b[0m \u001b[31m10.8 MB/s\u001b[0m eta \u001b[36m0:00:00\u001b[0m\n",
            "\u001b[?25hDownloading datasets-2.19.0-py3-none-any.whl (542 kB)\n",
            "\u001b[2K   \u001b[90m━━━━━━━━━━━━━━━━━━━━━━━━━━━━━━━━━━━━━━━━\u001b[0m \u001b[32m542.0/542.0 kB\u001b[0m \u001b[31m26.0 MB/s\u001b[0m eta \u001b[36m0:00:00\u001b[0m\n",
            "\u001b[?25hDownloading dill-0.3.8-py3-none-any.whl (116 kB)\n",
            "\u001b[2K   \u001b[90m━━━━━━━━━━━━━━━━━━━━━━━━━━━━━━━━━━━━━━━━\u001b[0m \u001b[32m116.3/116.3 kB\u001b[0m \u001b[31m5.6 MB/s\u001b[0m eta \u001b[36m0:00:00\u001b[0m\n",
            "\u001b[?25hDownloading fsspec-2024.3.1-py3-none-any.whl (171 kB)\n",
            "\u001b[2K   \u001b[90m━━━━━━━━━━━━━━━━━━━━━━━━━━━━━━━━━━━━━━━━\u001b[0m \u001b[32m172.0/172.0 kB\u001b[0m \u001b[31m12.3 MB/s\u001b[0m eta \u001b[36m0:00:00\u001b[0m\n",
            "\u001b[?25hDownloading grpcio_tools-1.68.1-cp310-cp310-manylinux_2_17_x86_64.manylinux2014_x86_64.whl (2.4 MB)\n",
            "\u001b[2K   \u001b[90m━━━━━━━━━━━━━━━━━━━━━━━━━━━━━━━━━━━━━━━━\u001b[0m \u001b[32m2.4/2.4 MB\u001b[0m \u001b[31m45.4 MB/s\u001b[0m eta \u001b[36m0:00:00\u001b[0m\n",
            "\u001b[?25hDownloading portalocker-2.10.1-py3-none-any.whl (18 kB)\n",
            "Downloading tokenizers-0.19.1-cp310-cp310-manylinux_2_17_x86_64.manylinux2014_x86_64.whl (3.6 MB)\n",
            "\u001b[2K   \u001b[90m━━━━━━━━━━━━━━━━━━━━━━━━━━━━━━━━━━━━━━━━\u001b[0m \u001b[32m3.6/3.6 MB\u001b[0m \u001b[31m54.4 MB/s\u001b[0m eta \u001b[36m0:00:00\u001b[0m\n",
            "\u001b[?25hDownloading multiprocess-0.70.16-py310-none-any.whl (134 kB)\n",
            "\u001b[2K   \u001b[90m━━━━━━━━━━━━━━━━━━━━━━━━━━━━━━━━━━━━━━━━\u001b[0m \u001b[32m134.8/134.8 kB\u001b[0m \u001b[31m9.0 MB/s\u001b[0m eta \u001b[36m0:00:00\u001b[0m\n",
            "\u001b[?25hDownloading pyarrow_hotfix-0.6-py3-none-any.whl (7.9 kB)\n",
            "Downloading xxhash-3.5.0-cp310-cp310-manylinux_2_17_x86_64.manylinux2014_x86_64.whl (194 kB)\n",
            "\u001b[2K   \u001b[90m━━━━━━━━━━━━━━━━━━━━━━━━━━━━━━━━━━━━━━━━\u001b[0m \u001b[32m194.1/194.1 kB\u001b[0m \u001b[31m14.6 MB/s\u001b[0m eta \u001b[36m0:00:00\u001b[0m\n",
            "\u001b[?25hDownloading h2-4.1.0-py3-none-any.whl (57 kB)\n",
            "\u001b[2K   \u001b[90m━━━━━━━━━━━━━━━━━━━━━━━━━━━━━━━━━━━━━━━━\u001b[0m \u001b[32m57.5/57.5 kB\u001b[0m \u001b[31m4.1 MB/s\u001b[0m eta \u001b[36m0:00:00\u001b[0m\n",
            "\u001b[?25hDownloading protobuf-5.29.1-cp38-abi3-manylinux2014_x86_64.whl (319 kB)\n",
            "\u001b[2K   \u001b[90m━━━━━━━━━━━━━━━━━━━━━━━━━━━━━━━━━━━━━━━━\u001b[0m \u001b[32m319.7/319.7 kB\u001b[0m \u001b[31m20.4 MB/s\u001b[0m eta \u001b[36m0:00:00\u001b[0m\n",
            "\u001b[?25hDownloading hpack-4.0.0-py3-none-any.whl (32 kB)\n",
            "Downloading hyperframe-6.0.1-py3-none-any.whl (12 kB)\n",
            "Installing collected packages: xxhash, python-dotenv, pyarrow-hotfix, protobuf, portalocker, hyperframe, hpack, fsspec, dill, multiprocess, h2, grpcio-tools, tokenizers, transformers, qdrant-client, openai, sentence-transformers, datasets\n",
            "  Attempting uninstall: protobuf\n",
            "    Found existing installation: protobuf 4.25.5\n",
            "    Uninstalling protobuf-4.25.5:\n",
            "      Successfully uninstalled protobuf-4.25.5\n",
            "  Attempting uninstall: fsspec\n",
            "    Found existing installation: fsspec 2024.10.0\n",
            "    Uninstalling fsspec-2024.10.0:\n",
            "      Successfully uninstalled fsspec-2024.10.0\n",
            "  Attempting uninstall: tokenizers\n",
            "    Found existing installation: tokenizers 0.20.3\n",
            "    Uninstalling tokenizers-0.20.3:\n",
            "      Successfully uninstalled tokenizers-0.20.3\n",
            "  Attempting uninstall: transformers\n",
            "    Found existing installation: transformers 4.46.3\n",
            "    Uninstalling transformers-4.46.3:\n",
            "      Successfully uninstalled transformers-4.46.3\n",
            "  Attempting uninstall: openai\n",
            "    Found existing installation: openai 1.54.5\n",
            "    Uninstalling openai-1.54.5:\n",
            "      Successfully uninstalled openai-1.54.5\n",
            "  Attempting uninstall: sentence-transformers\n",
            "    Found existing installation: sentence-transformers 3.2.1\n",
            "    Uninstalling sentence-transformers-3.2.1:\n",
            "      Successfully uninstalled sentence-transformers-3.2.1\n",
            "\u001b[31mERROR: pip's dependency resolver does not currently take into account all the packages that are installed. This behaviour is the source of the following dependency conflicts.\n",
            "gcsfs 2024.10.0 requires fsspec==2024.10.0, but you have fsspec 2024.3.1 which is incompatible.\n",
            "tensorflow 2.17.1 requires protobuf!=4.21.0,!=4.21.1,!=4.21.2,!=4.21.3,!=4.21.4,!=4.21.5,<5.0.0dev,>=3.20.3, but you have protobuf 5.29.1 which is incompatible.\n",
            "tensorflow-metadata 1.13.1 requires protobuf<5,>=3.20.3, but you have protobuf 5.29.1 which is incompatible.\u001b[0m\u001b[31m\n",
            "\u001b[0mSuccessfully installed datasets-2.19.0 dill-0.3.8 fsspec-2024.3.1 grpcio-tools-1.68.1 h2-4.1.0 hpack-4.0.0 hyperframe-6.0.1 multiprocess-0.70.16 openai-0.28.0 portalocker-2.10.1 protobuf-5.29.1 pyarrow-hotfix-0.6 python-dotenv-1.0.1 qdrant-client-1.9.0 sentence-transformers-2.7.0 tokenizers-0.19.1 transformers-4.40.1 xxhash-3.5.0\n"
          ]
        }
      ]
    },
    {
      "cell_type": "code",
      "source": [
        "from google.colab import userdata\n",
        "QDRANT_API_KEY=userdata.get('QDRANT_API_KEY')\n",
        "QDRANT_URL=userdata.get('QDRANT_URL')"
      ],
      "metadata": {
        "id": "jSJI14E-IUbM"
      },
      "execution_count": 2,
      "outputs": []
    },
    {
      "cell_type": "code",
      "source": [
        "#print(QDRANT_API_KEY)\n",
        "#print(QDRANT_URL)"
      ],
      "metadata": {
        "id": "R-QmznAuIWsk"
      },
      "execution_count": null,
      "outputs": []
    },
    {
      "cell_type": "code",
      "source": [
        "from google.colab import userdata\n",
        "OPENAI_API_KEY= userdata.get('OPENAI_API_KEY')"
      ],
      "metadata": {
        "id": "W4nSUo4woPUR"
      },
      "execution_count": 7,
      "outputs": []
    },
    {
      "cell_type": "code",
      "source": [
        "#print(OPENAI_API_KEY)"
      ],
      "metadata": {
        "id": "7jylxgz2oU-F"
      },
      "execution_count": 19,
      "outputs": []
    },
    {
      "cell_type": "code",
      "source": [
        "import openai\n",
        "\n",
        "# Step 3: Set OpenAI API key securely\n",
        "# You need to set the API key explicitly, replace with your actual key.\n",
        "openai.api_key = OPENAI_API_KEY  # Replace with your actual API key\n",
        "\n",
        "# Step 4: Define the embedding function\n",
        "def get_text_embedding(\n",
        "    text: str,\n",
        "    model: str = \"text-embedding-3-large\"\n",
        ") -> list:\n",
        "    \"\"\"\n",
        "    Get the vector representation of the input text using the specified OpenAI embedding model.\n",
        "\n",
        "    Args:\n",
        "        text (str): The input text to be embedded.\n",
        "        model (str, optional): The name of the OpenAI embedding model to use. Defaults to \"text-embedding-3-large\".\n",
        "\n",
        "    Returns:\n",
        "        list: The vector representation of the input text as a list of floats.\n",
        "\n",
        "    Raises:\n",
        "        openai.error.OpenAIError: If an error occurs during the API call.\n",
        "    \"\"\"\n",
        "    try:\n",
        "        response = openai.Embedding.create(\n",
        "            input=text,\n",
        "            model=model\n",
        "        )\n",
        "        embedding = response['data'][0]['embedding']\n",
        "        return embedding\n",
        "    except openai.error.OpenAIError as e:\n",
        "        print(f\"Error generating embedding: {e}\")\n",
        "        return []\n",
        "\n",
        "# Step 5: Test the function\n",
        "input_text = \"This is a sample text to generate embeddings.\"\n",
        "embedding_vector = get_text_embedding(input_text)\n",
        "print(\"Embedding Vector:\", embedding_vector)\n",
        "print(\"Vector Length:\", len(embedding_vector))\n"
      ],
      "metadata": {
        "colab": {
          "base_uri": "https://localhost:8080/"
        },
        "id": "GvVJS3L_v_Qg",
        "outputId": "33b8630c-428c-4d7c-e99c-54929e21dfd4"
      },
      "execution_count": 11,
      "outputs": [
        {
          "output_type": "stream",
          "name": "stdout",
          "text": [
            "Embedding Vector: [-0.00021045458561275154, -0.014197973534464836, -0.013734831474721432, -0.012330218218266964, 0.01075097918510437, 0.002871862845495343, -0.0014653523685410619, 0.0338929146528244, 0.0077633303590118885, -0.003272367175668478, -0.0072090779431164265, 0.015526660718023777, 0.003014222253113985, -0.006370106711983681, 0.010971161536872387, -0.0032742652110755444, -0.00928562693297863, 0.004623832181096077, -0.007516574114561081, -0.01661238819360733, 0.0031698683742433786, 0.0040354132652282715, -0.05053567513823509, 0.0179182980209589, 0.03556326776742935, -0.004532721824944019, -0.014904076233506203, 0.01753867231309414, -0.0014112557983025908, 0.04746830463409424, -0.017326083034276962, -0.009361551143229008, 0.014289083890616894, -0.045008335262537, 0.030779991298913956, 0.009110999293625355, 0.028441501781344414, 0.04953346401453018, 0.011365971527993679, -0.009961359202861786, 0.050353456288576126, 0.00643843924626708, -0.036929916590452194, -0.006806675344705582, 0.008647856302559376, -0.013089468702673912, 0.0016399797750636935, -0.006165109109133482, -0.015336848795413971, -0.021350108087062836, 0.0001310892403125763, -0.0056640044786036015, 0.016430167481303215, -0.048288293182849884, -0.045737214386463165, 0.04983716458082199, 0.01466111559420824, 0.005808261688798666, 0.04355057701468468, 0.040240246802568436, -0.0273633673787117, -0.0014207464409992099, -0.00235936907120049, -0.012755398638546467, -0.01723497360944748, -0.013180578127503395, 0.029352601617574692, -0.004783274605870247, 0.005436229519546032, 0.0495942048728466, -0.0017775938613340259, 0.03310329467058182, 0.007926569320261478, 0.006647232919931412, 0.03863063454627991, 0.018981248140335083, 0.02543487213551998, -0.002129696076735854, -0.00941469892859459, 0.018464958295226097, 0.048683103173971176, -0.018738288432359695, -0.024842657148838043, 0.030871102586388588, 0.064991794526577, 0.014516858384013176, -0.0076646278612315655, -0.05229713395237923, -0.006518160458654165, -0.00682945316657424, -0.034287724643945694, 0.036595847457647324, -0.019376058131456375, -0.034986235201358795, -0.035927705466747284, 0.018814213573932648, -0.0025738573167473078, -0.010249873623251915, -0.033012185245752335, 0.021911952644586563, -0.0038949521258473396, -0.04099949449300766, 0.009839879348874092, -0.055182285606861115, -0.003154683392494917, 0.0240985918790102, -0.01450167316943407, 0.02999037131667137, -0.0056791892275214195, 0.016779422760009766, -0.01594424806535244, -0.05433192476630211, -0.014714263379573822, 0.018328292295336723, -0.02540450170636177, -0.021957507357001305, -0.00446438929066062, -0.00682945316657424, 0.024675622582435608, -0.03817508742213249, 0.03966321423649788, -0.04157652705907822, -0.003050286555662751, -0.018297923728823662, 0.01887495256960392, 0.030385181307792664, -0.010196726769208908, -0.007554536685347557, 0.003718426451086998, -0.00043751776684075594, -0.015389995649456978, 0.003906340803951025, -0.016733868047595024, 0.0402706153690815, 0.054180074483156204, -0.003122415393590927, -0.008632672019302845, 0.0319492369890213, 0.01024228148162365, 0.033042557537555695, -0.02543487213551998, -0.02210935764014721, 0.009877840988337994, -0.014767411164939404, 0.00025672136689536273, -0.01690090261399746, 0.013545018620789051, 0.02567783184349537, -0.001741529442369938, -0.006290385499596596, -0.03945062682032585, -0.007926569320261478, 0.026513006538152695, 0.028760386630892754, 0.024508588016033173, 0.0039405073039233685, 0.025647461414337158, -0.036383256316185, -0.017796818166971207, -0.001152161741629243, 0.008943963795900345, -0.005538728088140488, 0.013879088684916496, 0.002627004636451602, -0.00034735683584585786, -0.016369428485631943, 0.021942323073744774, 0.011798744089901447, -0.02371896803379059, 0.020727522671222687, 0.020590858533978462, 0.003800045931711793, 0.03610992431640625, 0.0008114483789540827, -0.02377970702946186, 0.001779492013156414, 0.012869286350905895, 0.023278603330254555, 0.0059601119719445705, 0.04133356735110283, -0.00487818056717515, 0.06462734937667847, 0.04127282649278641, 0.01595943234860897, -0.023202678188681602, 0.04197133705019951, 0.05664004385471344, 0.028168171644210815, 0.013620943762362003, -0.01697682775557041, 0.02022641710937023, -0.015336848795413971, 0.00011359090422047302, 0.009748768992722034, 0.03765879571437836, 5.468972085509449e-05, -0.020044198259711266, 0.03361958637833595, -0.01591387763619423, -0.0016485214000567794, -0.0023289991077035666, -0.02051493339240551, -0.0009229631978087127, -0.01725015789270401, 0.002877557184547186, 0.030795177444815636, -0.01252762321382761, 0.0038911558222025633, 0.007045839447528124, -0.023521563038229942, 0.014623153023421764, -0.06456661224365234, -0.019072357565164566, -0.01413723360747099, 0.0021126128267496824, 0.02080344781279564, -0.014759818091988564, 0.03705139458179474, 0.016673129051923752, -0.019011618569493294, 0.017083123326301575, -0.006966117769479752, 0.02860853634774685, -0.05008012428879738, -0.030825546011328697, -0.039541736245155334, 0.008260639384388924, 0.007858236320316792, -0.024159332737326622, 0.03899507597088814, 0.016506092622876167, 0.006366310641169548, 0.03863063454627991, -0.01138874888420105, 0.03814471513032913, -0.010864865966141224, 0.014425748027861118, -0.010652276687324047, -0.016156837344169617, 0.0338929146528244, 0.007881014607846737, 0.021000852808356285, -0.042487625032663345, -0.056488193571567535, 0.031159617006778717, 0.014167603105306625, -0.024189703166484833, -0.023688597604632378, 0.02338489703834057, 0.008845261298120022, 0.0008071775664575398, 0.01693127304315567, 0.016172023490071297, -0.004107541870325804, -0.012428920716047287, 0.01658201776444912, 0.04039209708571434, -0.009703214280307293, 0.019740497693419456, -0.02572338655591011, 0.0016788913635537028, 0.024614881724119186, 0.016065727919340134, -0.0191634688526392, -0.011806336231529713, -0.01480537373572588, 0.03255663812160492, -0.03938988596200943, -0.00033335815533064306, -0.022018248215317726, 0.019345687702298164, 0.005269194487482309, 0.015374810434877872, 0.03191886469721794, 0.009103406220674515, -0.019801238551735878, 0.020089752972126007, -0.014099271036684513, 0.056457825005054474, 0.004244206938892603, 0.0225041676312685, -0.012861693277955055, 0.022519351914525032, 0.013165393844246864, -0.02532857656478882, -0.031129246577620506, 0.01630868762731552, -0.01419038139283657, -0.022033432498574257, -0.04859199374914169, -0.02309638261795044, -0.002313814125955105, 0.017052752897143364, 0.03453068807721138, 0.010333391837775707, -0.00650677178055048, 0.014289083890616894, -0.018115703016519547, 0.02567783184349537, -0.030415551736950874, -0.017477933317422867, 0.013879088684916496, 0.005375489592552185, -0.02018086239695549, -0.013135023415088654, 0.047741636633872986, 0.004555499646812677, 0.025207096710801125, -0.050596415996551514, 0.013241318985819817, 0.0005789280403405428, 0.0001991844765143469, 0.01320335641503334, 0.0040543945506215096, -0.05065715312957764, -0.002496034139767289, 0.009035074152052402, -0.03483438491821289, 0.024933766573667526, -0.03744620457291603, -0.016490908339619637, -0.02087937295436859, -0.06420217454433441, 0.04564610496163368, 0.018161257728934288, -0.017386823892593384, -0.0037962496280670166, 0.03122035600244999, 0.02672559767961502, 0.007178707979619503, -0.023293787613511086, -0.03911655396223068, -0.02218528278172016, -0.01202651858329773, -0.002858575899153948, -0.009452661499381065, -0.011973370797932148, -0.02543487213551998, -0.0021467790938913822, -0.01688571833074093, -0.007395094260573387, -0.013704461045563221, -0.03735509514808655, -0.018009407445788383, 0.0036880564875900745, 0.0029990372713655233, 0.04467426612973213, 0.021881582215428352, 0.02575375698506832, 0.010492834262549877, 0.0007393195992335677, 0.007163522765040398, 0.001903819153085351, -0.031463317573070526, 0.021927136927843094, -0.022276392206549644, -0.02309638261795044, 0.004024024587124586, -0.032678116112947464, 0.03056740202009678, -0.04713423550128937, -0.015321663580834866, 0.0018981248140335083, -0.005633634515106678, -0.022549722343683243, -0.06456661224365234, 0.025495612993836403, -0.0120492959395051, 0.051598623394966125, 0.02080344781279564, 0.010113208554685116, 0.01591387763619423, -0.029428526759147644, 0.0010050571290776134, -0.020089752972126007, -0.02865409106016159, 0.0033729677088558674, 0.0015479207504540682, 0.0034621795639395714, 0.016673129051923752, -0.012656696140766144, -0.00017391568690072745, 0.027454476803541183, -0.013947420753538609, 0.021258996799588203, -0.00010564250987954438, -0.022291578352451324, 0.0004462965880520642, -0.026194121688604355, 0.02444784715771675, 0.04200170561671257, -0.021380478516221046, -0.04194096475839615, -0.03231367468833923, 0.010470055975019932, 0.045038703829050064, -0.011533006094396114, -0.007508981507271528, 0.03644399717450142, 0.029853707179427147, -0.032374415546655655, -0.009050259366631508, -0.0005086974706500769, 0.00845045130699873, 0.015716472640633583, -0.027606327086687088, -0.008496006950736046, -0.040209874510765076, 0.04427945613861084, 0.04327724501490593, -0.0017054651398211718, 0.005967704579234123, -0.010143578983843327, 0.004046801943331957, -0.021031223237514496, -0.046040914952754974, -0.06620658934116364, 0.018723102286458015, -0.011441896669566631, -0.02147158794105053, 0.01416001096367836, -0.033649954944849014, 0.029231121763586998, 0.017477933317422867, -0.04516018554568291, 0.018039777874946594, 0.017159048467874527, 0.031022951006889343, -0.013180578127503395, -0.05147714540362358, -0.03525956720113754, 0.012641510926187038, 0.036990657448768616, 0.01567091792821884, -0.027545586228370667, 0.003513429081067443, 0.008108789101243019, 0.014744633808732033, -0.041151344776153564, 0.017644967883825302, -0.017052752897143364, -0.02210935764014721, 0.004821237176656723, 0.01731089875102043, -0.04956383630633354, 0.016141653060913086, 0.004639016930013895, -0.0009528586524538696, 0.029413342475891113, -0.024599697440862656, -0.051902323961257935, 0.03122035600244999, -0.07592499256134033, -0.021896768361330032, -0.021577883511781693, -0.02244342677295208, 0.03641362488269806, 0.044826116412878036, 0.007019265554845333, -0.02373415231704712, 0.002065159846097231, 0.008503599092364311, 0.013879088684916496, -0.016536463052034378, 0.029732227325439453, -0.043155767023563385, 0.001314451452344656, -0.0365351065993309, 0.0003689480072353035, 0.0317973867058754, -0.06371625512838364, -0.010173948481678963, -0.010842088609933853, 0.012489661574363708, 0.0243719220161438, 0.0062182568944990635, -0.008101196959614754, -0.016779422760009766, 0.0037203244864940643, -0.018313108012080193, 0.0003914882254321128, 0.013302058912813663, 0.011274861171841621, -0.0027503827586770058, -0.019983457401394844, 0.016794608905911446, 0.02672559767961502, -0.01825236715376377, 0.025966348126530647, 0.014402970671653748, -0.025252651423215866, 0.027879657223820686, -0.0474986732006073, -0.02866927720606327, 6.257880158955231e-05, -0.029732227325439453, 0.005288175772875547, -0.0338929146528244, 0.04798459634184837, 0.038964707404375076, -0.010022099129855633, 0.034378837794065475, -0.02176010236144066, -0.007850644178688526, 0.0001940832589752972, 0.016156837344169617, -0.004221429582685232, 0.007000284269452095, -0.015511475503444672, -0.01655164733529091, -0.009558956138789654, -0.0012755398638546467, -0.015594993717968464, 0.003154683392494917, 0.003612131578847766, 0.014524450525641441, 0.009088221937417984, 0.004088560584932566, 0.008875631727278233, -0.0062334416434168816, -0.014220750890672207, 0.005747521761804819, -0.0012100544990971684, 0.04251799359917641, -0.02830483764410019, 0.016065727919340134, 0.011419118382036686, -0.008465636521577835, -0.01658201776444912, -0.033315885812044144, -0.014471303671598434, 0.01785755716264248, -0.008207491599023342, -0.04862236604094505, -0.031767018139362335, -0.001779492013156414, -0.022564908489584923, 0.01854088343679905, -0.00044344941852614284, -0.01367409061640501, 0.03289070725440979, 0.031189987435936928, -0.04233577474951744, 0.021532326936721802, 0.005967704579234123, 0.03671732544898987, 0.029094457626342773, -0.03352847695350647, -0.018464958295226097, 0.0038835632149130106, 0.015314070507884026, 0.024948952719569206, 0.015101481229066849, 0.004388464614748955, 0.010363761335611343, -0.007774719037115574, -0.018768658861517906, -0.0005257805460132658, -0.001020242110826075, -0.005831039510667324, 0.01723497360944748, 0.026862261816859245, -0.01480537373572588, 0.006229645572602749, 0.0021657603792846203, -0.020302342250943184, 0.00018221998470835388, 0.0019408325897529721, 0.016673129051923752, -0.011517820879817009, 0.01349187083542347, 0.008898409083485603, 0.009748768992722034, -0.004061987157911062, 0.0033767640125006437, 0.04005802422761917, 0.030020741745829582, -0.005804465617984533, -0.011054678820073605, -0.013643721118569374, -0.00928562693297863, -0.010060061700642109, -0.020317528396844864, -0.0009030328947119415, 0.032708484679460526, 0.03744620457291603, -0.0227774977684021, -0.01826755329966545, -0.013734831474721432, 0.008837669156491756, -0.004919939674437046, 0.016657942906022072, 0.01431945338845253, -0.018070148304104805, -0.018434587866067886, -0.0010297327535226941, 0.04434019699692726, 0.000460769806522876, 0.010325798764824867, -0.01627831906080246, -0.02176010236144066, 0.014904076233506203, 0.02898816205561161, -0.013545018620789051, -0.018723102286458015, -0.02113751694560051, 0.03866100683808327, -0.001252762391231954, 0.0062334416434168816, -0.0064118653535842896, -0.010098024271428585, -0.03969358652830124, 0.021304553374648094, -0.029064087197184563, 0.0030901471618562937, -0.007524166721850634, 0.0011644995538517833, 0.023886002600193024, -0.014076493680477142, 0.011191343888640404, -0.011168566532433033, -0.008070826530456543, 0.01723497360944748, -0.023217862471938133, -0.0030996378045529127, 0.016050543636083603, -0.0253437627106905, -0.009399513714015484, 0.012580770999193192, -0.02576894313097, -0.009399513714015484, 0.023339342325925827, -0.036292146891355515, 0.008883223868906498, 0.0016285910969600081, 0.002501728478819132, 0.032070714980363846, 0.0048516071401536465, -0.009346366859972477, -0.0037772683426737785, 0.03279959782958031, 0.011533006094396114, -0.02046937867999077, 0.010098024271428585, -0.0094450693577528, 0.013560203835368156, -0.0042935581877827644, 0.012079666368663311, 0.034287724643945694, -0.02827446721494198, 0.03161516785621643, -0.015405180864036083, 0.017174232751131058, 0.01271743606775999, 0.0051477146334946156, 0.009543771855533123, 0.011844298802316189, -0.00794934667646885, -0.026923002675175667, 0.032435156404972076, 0.00941469892859459, -0.017796818166971207, 0.014380193315446377, -0.03456105664372444, 0.017477933317422867, 0.00423661433160305, -0.012937618419528008, -0.026907816529273987, -0.015162221156060696, 0.011328008957207203, -0.009475438855588436, -0.013803163543343544, -0.022716756910085678, -0.02151714265346527, 0.003215423319488764, -0.00033240910852327943, -0.008594709448516369, 0.01697682775557041, 0.024614881724119186, -0.0037336114328354597, 0.011016716249287128, -0.0012318829540163279, -0.006423254497349262, 0.007152134086936712, 0.026118196547031403, -0.0001558834919705987, 0.015412773005664349, 0.025981532409787178, -0.02077307738363743, 0.0110394936054945, -0.019998643547296524, -0.03768916428089142, 0.012588364072144032, 0.0022777498234063387, 0.0411209762096405, 0.016733868047595024, 0.005812058225274086, 0.018464958295226097, -0.010348576121032238, 0.0005504561704583466, -0.029792966321110725, 0.006715565454214811, -0.013028728775680065, 0.009748768992722034, 0.02538931742310524, -0.02476673200726509, -0.005607060622423887, -0.021668992936611176, -0.04910828545689583, 0.003306533442810178, 0.0069509330205619335, 0.026892632246017456, -0.004597258288413286, 0.015321663580834866, -0.008412488736212254, 0.007296391762793064, 0.0064118653535842896, 0.012550401501357555, -0.02797076664865017, 0.010735793970525265, 0.006502975709736347, 0.040209874510765076, 0.0059411306865513325, -0.018100518733263016, -0.018146073445677757, 0.00465040560811758, 0.002422007266432047, -0.002547283424064517, 0.010037284344434738, 0.00370134343393147, -0.000585096946451813, -0.0006463114987127483, 0.03841804713010788, 0.005595671944320202, 0.008852854371070862, -0.013165393844246864, -0.0312507264316082, 0.007364724297076464, -0.012709843926131725, -0.009270441718399525, 0.037628427147865295, -0.0429128035902977, -0.014395378530025482, -0.03222256526350975, -0.007281206548213959, 0.01186707615852356, 0.0026213102973997593, -0.010280244052410126, -0.0026972354389727116, -0.0008978130063042045, 0.03252626582980156, 0.0055842832662165165, 0.012383366003632545, -0.02280786819756031, -0.01892050728201866, 0.015792397782206535, -0.0019265966257080436, -0.008807298727333546, -0.021699363365769386, -0.004532721824944019, -0.01624794863164425, 0.0015222961083054543, -0.015048333443701267, 0.020439008250832558, 0.02476673200726509, 0.03419661521911621, -0.0015858833212405443, -0.0008195153786800802, -0.01365890633314848, -0.0006918665021657944, 0.036261774599552155, 0.02279268205165863, 0.028775572776794434, 0.025541167706251144, -0.006791490595787764, -0.004380872007459402, 0.048045333474874496, -0.016020173206925392, -0.007789904251694679, -0.010652276687324047, 0.001287877676077187, -0.026892632246017456, 0.00959691870957613, 0.01058394368737936, -0.02244342677295208, 0.003612131578847766, 0.008496006950736046, -0.01365890633314848, 0.011631708592176437, 0.00962728913873434, -0.039238035678863525, -0.005197065882384777, 0.006609270349144936, 0.03094702586531639, 0.02997518703341484, 0.012960395775735378, 0.035988446325063705, 0.017159048467874527, -0.0021942323073744774, -0.025556351989507675, 0.029550006613135338, -0.009232479147613049, 0.029170382767915726, 0.03276922553777695, -0.03026370145380497, -0.017341267317533493, -0.006047425791621208, 0.025814497843384743, 0.04327724501490593, -0.003291348461061716, 0.005508358124643564, 0.002404924016445875, 0.0094450693577528, 0.04725571349263191, -0.004073375836014748, 0.029185567051172256, -0.008754151873290539, 0.048014964908361435, -0.018024593591690063, -0.010135986842215061, -0.007881014607846737, -0.0066738068126142025, 0.003790555289015174, 0.017812002450227737, 0.01075097918510437, 0.005140122026205063, 0.015458328649401665, -0.00043775502126663923, -0.007163522765040398, 0.0008147700573317707, 0.009027481079101562, -0.0566704124212265, -0.00864026416093111, 0.029853707179427147, -0.01255799364298582, 0.038478784263134, -0.006062610540539026, 0.014387786388397217, 0.027484847232699394, 0.014471303671598434, -0.017963852733373642, 0.016020173206925392, -0.046435724943876266, 0.0029914446640759706, -0.01402334589511156, 0.03486475721001625, -0.006563715636730194, -0.001297368318773806, 0.0058386316522955894, -0.007269817870110273, 0.024478217586874962, 0.01565573364496231, -0.01450167316943407, 0.006745935417711735, -0.020894557237625122, 0.005641227122396231, -0.018647177144885063, 0.009490624070167542, 0.015549438074231148, 0.005105955526232719, 0.025935977697372437, -0.015184998512268066, -0.004900958389043808, -0.006089184433221817, -0.010219504125416279, -0.009520993568003178, -0.0009049309883266687, -0.032435156404972076, -0.03122035600244999, -0.011305231600999832, 0.012998358346521854, 0.035927705466747284, -0.02282305248081684, -0.004756700713187456, -0.019770868122577667, 0.011616523377597332, 0.01756904274225235, 0.0003606437239795923, -0.03191886469721794, -0.017143862321972847, -0.0077633303590118885, 0.023293787613511086, 0.009809508919715881, -0.013947420753538609, 0.04069579392671585, -0.03647436574101448, 0.01989234797656536, 0.0016418779268860817, -0.012011333368718624, -0.01627831906080246, 0.021623438224196434, 0.012383366003632545, 0.003192645963281393, -0.020104937255382538, 0.030658511444926262, 0.00586520554497838, -0.0022644628770649433, -0.009073036722838879, -0.0003276637871749699, 0.005432432983070612, 0.022595277056097984, -0.03504697605967522, -0.014334638603031635, -0.01466870866715908, -0.00471873814240098, -0.030840732157230377, -0.02412896230816841, 0.000692341011017561, 0.013757608830928802, 0.028562981635332108, -0.03137220814824104, 0.0013457704335451126, 0.03027888759970665, -0.017371637746691704, -0.012626325711607933, 0.01303632091730833, 0.0289577916264534, 0.02311156690120697, 0.06687473505735397, 0.01984679326415062, 0.007455834187567234, 0.04191059619188309, 0.053238604217767715, -0.007732960395514965, -0.011077456176280975, -0.003836110234260559, -0.023005273193120956, -0.0016589610604569316, -0.01024228148162365, -0.017477933317422867, -0.008146751672029495, 0.011821521446108818, -0.01303632091730833, 0.012702250853180885, 0.012542808428406715, 0.000449143786681816, -0.0010449177352711558, 0.007410279009491205, 0.018146073445677757, -0.011457080952823162, -0.011669671162962914, 0.016156837344169617, -0.0003366798919159919, -0.011282454244792461, -0.0034431982785463333, -0.031463317573070526, 0.02968667261302471, 0.0036633808631449938, 0.013484278693795204, 0.007774719037115574, 0.0025548760313540697, 0.022321946918964386, -0.0317973867058754, 0.01597461849451065, -0.0028851497918367386, -0.0077481456100940704, 0.0012831323547288775, 0.0025415890850126743, -0.016369428485631943, -0.0013704460579901934, -0.008108789101243019, -0.007956938818097115, -0.01857125386595726, 0.001037325244396925, -0.0181916281580925, -0.023506376892328262, 0.005948723293840885, 0.026209307834506035, 0.00976395420730114, 0.010363761335611343, -0.034318096935749054, 0.010500426404178143, -0.019922718405723572, 0.014334638603031635, 0.02704448252916336, 0.007471019402146339, 0.003209728980436921, 0.006893989164382219, -0.004741515964269638, 0.016141653060913086, 0.023931557312607765, 0.001743427594192326, 0.005846224259585142, 0.06225849315524101, 0.01857125386595726, -0.02707485295832157, -0.00497308699414134, -0.02053011767566204, -0.037628427147865295, -0.001483384519815445, 0.005815854296088219, -0.007626665290445089, -0.027165962383151054, -0.01851051300764084, -0.0031053321436047554, 0.0056032645516097546, 0.020636413246393204, 0.006935747805982828, 0.02051493339240551, -0.024523772299289703, -0.005018642172217369, -0.017705708742141724, -0.02438710816204548, 0.03686917573213577, -0.0007269817870110273, 0.025935977697372437, 0.013765200972557068, -0.03380180522799492, -0.042457256466150284, -0.009407106786966324, 0.021987877786159515, -0.00927803386002779, 0.031068505719304085, -0.010295429266989231, 0.03841804713010788, -0.009589326567947865, 0.016399798914790154, -0.007873421534895897, -0.00027665169909596443, 0.04880458489060402, -0.017751263454556465, -0.040179505944252014, -0.014046123251318932, -0.0030692678410559893, -0.0045744809322059155, 0.01981642283499241, 0.03322477638721466, 0.005462802946567535, 0.024873027577996254, -0.018753472715616226, 0.011684856377542019, -0.023354526609182358, 0.006992691662162542, -0.0054020630195736885, -0.0037943513598293066, 0.004631424322724342, 0.017462749034166336, -0.07677534967660904, -0.02929186262190342, 0.012041703797876835, -0.0012024620082229376, 0.01664275862276554, 0.008222676813602448, -0.007896198891103268, -0.009650066494941711, -0.007926569320261478, 0.0077443490736186504, 0.03702102601528168, -0.010333391837775707, 0.012565585784614086, 0.017022382467985153, 0.00861748680472374, 0.046071283519268036, 0.004988271743059158, -0.02604227140545845, 0.01125208381563425, -0.001652317587286234, -0.006844637915492058, 0.03771953657269478, -0.00941469892859459, -0.025556351989507675, -0.005102159455418587, 0.006715565454214811, -0.010849681682884693, -0.031736645847558975, -0.016718683764338493, 0.008465636521577835, 0.0022492778953164816, 0.00733435433357954, -0.0037051395047456026, 0.01823718287050724, -0.02080344781279564, 0.010098024271428585, -0.001904768287204206, 0.015162221156060696, 0.004540314432233572, 0.026194121688604355, 0.013567795976996422, -0.017508303746581078, -0.02730262652039528, 0.0033919489942491055, 0.001975947991013527, 0.00864026416093111, -0.0011464674025774002, -0.020666783675551414, 0.00813915953040123, 0.005394470877945423, 0.015541845932602882, 0.03096221201121807, -0.007057228125631809, -0.038266196846961975, 0.03771953657269478, 0.011016716249287128, 0.01662757247686386, 0.011821521446108818, -0.027424106374382973, 0.013712053187191486, 0.025829682126641273, 0.03164553642272949, -0.02054530195891857, -0.015731658786535263, -0.03255663812160492, 0.00602464796975255, -0.011495043523609638, 0.017796818166971207, 0.025601906701922417, -0.014357415959239006, 0.008966741152107716, -0.0015422264114022255, -0.01365131326019764, 0.011396341025829315, -0.021744918078184128, 0.04127282649278641, 0.02018086239695549, 0.018966063857078552, 0.014061308465898037, -0.003488753456622362, 0.012709843926131725, 0.013097060844302177, 0.010067653842270374, -0.007508981507271528, -0.015762029215693474, -0.0013305854517966509, 0.00627899682149291, -0.020120123401284218, -0.008275823667645454, -0.003130007768049836, 0.020712338387966156, 0.02699892781674862, 0.007881014607846737, -0.003982265945523977, -0.003397643333300948, 0.018495328724384308, -0.016764238476753235, 0.02340008318424225, -0.006210664287209511, 0.006924359127879143, -0.004183467011898756, -0.026254862546920776, -0.005345119629055262, 0.01626313291490078, 0.02186639793217182, -0.015048333443701267, -0.005804465617984533, -0.042852066457271576, -0.00013429233513306826, 0.0010249874321743846, 0.008556746877729893, 0.014782595448195934, -0.021046407520771027, -0.018647177144885063, -0.007592499256134033, -0.017341267317533493, 0.026209307834506035, 0.004563091788440943, -0.01826755329966545, -0.008427673950791359, -0.003951895982027054, 0.003416624618694186, 0.010948384180665016, 0.011996149085462093, 0.027150776237249374, 0.006043629255145788, 0.01498000044375658, -0.004601054359227419, -0.05199343338608742, -0.002218907931819558, -0.00446818582713604, 0.0017263444606214762, -0.001868703868240118, 0.009353959001600742, -0.008814891800284386, -0.031675904989242554, 0.01072060875594616, -0.019740497693419456, 0.01255799364298582, -0.030840732157230377, 0.006924359127879143, 0.04598017409443855, -0.004346705973148346, 0.01892050728201866, -0.014850928448140621, 0.004202448297291994, -0.0024333959445357323, -0.00815434381365776, -0.013529833406209946, -0.027758177369832993, 0.0018440282437950373, -0.014213158749043941, 0.006715565454214811, 0.006677602883428335, 0.003084452822804451, -0.0273633673787117, 0.01397779118269682, -0.0002579076972324401, 0.008169529028236866, 0.006749731954187155, -0.001715904800221324, -0.0097563611343503, -0.02379489317536354, -0.012277071364223957, 0.005432432983070612, 0.013575388118624687, 0.0020063179545104504, 0.004005043301731348, -0.01056116633117199, -0.003845600876957178, -0.0011834808392450213, -0.016809793189167976, -0.025450056418776512, -0.004194855690002441, 0.0009016092517413199, -0.0014406767440959811, 0.008253046311438084, -0.03462179750204086, 0.02148677222430706, 0.0028642702382057905, -0.002501728478819132, 0.006912970449775457, 0.05278305336833, 0.014015753753483295, -0.030795177444815636, 0.0014681995380669832, 0.01762978360056877, -0.0017756957095116377, -0.013469093479216099, -0.025890422984957695, 0.021927136927843094, 0.012930026277899742, 0.007190096657723188, -0.019269762560725212, 0.008632672019302845, -0.022291578352451324, -0.010044876486063004, -0.011130603961646557, 0.012413736432790756, 0.015837952494621277, 0.006446031853556633, -0.005390674341470003, 0.016096098348498344, 0.01416001096367836, 0.008237862028181553, -0.006905377842485905, -0.03738546743988991, 0.033649954944849014, 0.024660436436533928, -0.018130887299776077, -0.0031869516242295504, 0.0028832515235990286, -0.007713979110121727, -0.0015963229816406965, -0.005159103311598301, 0.003577965311706066, -0.002431497909128666, 0.024979323148727417, -0.010166356340050697, 0.014759818091988564, 0.00430874340236187, -0.010606721043586731, 0.00925525650382042, -0.0448564849793911, 0.004210040904581547, -0.008496006950736046, 0.0021315941121429205, -0.02933741733431816, 0.0010657970560714602, -0.006066407077014446, -0.013142616488039494, -0.0025738573167473078, -0.00676112063229084, -0.005557709373533726, 0.015746843069791794, -0.02771262265741825, 0.013317243196070194, -0.00035233941162005067, 0.010895236395299435, -0.016536463052034378, 0.03504697605967522, 0.01514703594148159, -0.027864471077919006, 0.015488698147237301, 0.012595956213772297, -0.0074862041510641575, -0.014691486023366451, 0.0013799367006868124, -0.020606042817234993, 0.026467451825737953, 0.005018642172217369, 0.009027481079101562, 0.01239855121821165, 0.010500426404178143, 0.0110394936054945, 0.010553574189543724, -0.005242620594799519, -0.0109028285369277, 0.02567783184349537, -0.012838915921747684, -0.014881297945976257, -0.024827472865581512, -0.005998074542731047, 5.8308021834818646e-05, 0.04528166353702545, -0.008898409083485603, -0.015435551293194294, -0.007641850505024195, 0.036292146891355515, -0.02444784715771675, 0.01726534403860569, -0.015048333443701267, 0.010333391837775707, -0.005367896985262632, -0.008146751672029495, 0.0074064829386770725, -0.013226133771240711, -0.019740497693419456, 0.006055017933249474, 0.012580770999193192, 0.008010086603462696, 0.010773756541311741, -0.0253437627106905, 0.006901581771671772, -0.03765879571437836, 0.0016437760787084699, 0.03875211626291275, -0.02177528850734234, -0.006081591825932264, 0.029458897188305855, 0.008784521371126175, 0.005569098051637411, 0.01320335641503334, -0.004422630649060011, -0.019406428560614586, -0.009589326567947865, 0.013469093479216099, -0.0022967311087995768, -0.015162221156060696, -0.010006913915276527, -0.004676979500800371, 0.0156253632158041, -0.00045151644735597074, 0.017083123326301575, 0.01058394368737936, -0.00029681925661861897, -0.006465013138949871, -0.029777782037854195, -0.023354526609182358, 0.009475438855588436, -0.028760386630892754, 0.04263947531580925, 0.020302342250943184, -0.0032476915512233973, -0.016050543636083603, 0.02374933660030365, 0.01854088343679905, -0.021668992936611176, -0.01954309269785881, -0.01627831906080246, 0.005732337012887001, -0.005121140740811825, -0.00207275222055614, -0.003145192749798298, 0.01630868762731552, -0.02377970702946186, -0.01787274330854416, -0.02080344781279564, -0.019269762560725212, 0.0007042043143883348, -0.012800953350961208, -0.0015801888657733798, -0.020074568688869476, 0.00925525650382042, -0.0009092018008232117, -0.012223923578858376, 0.011692448519170284, -0.011996149085462093, 0.027424106374382973, -0.0026877447962760925, -0.009839879348874092, 0.05229713395237923, -0.01173041108995676, 0.006556123029440641, 0.013537426479160786, -0.011290046386420727, -0.007292595691978931, -0.02932223118841648, -0.0032837558537721634, -0.03279959782958031, -0.012588364072144032, -0.0023005271796137094, -0.030521847307682037, 0.01723497360944748, -0.004859199281781912, 0.004703553393483162, -0.055212654173374176, -0.009331181645393372, -0.013529833406209946, 0.012838915921747684, 0.015184998512268066, 0.01400056853890419, 0.005531135480850935, 0.016399798914790154, -0.01042450126260519, 0.006802879273891449, -0.022944532334804535, -0.021091962233185768, 0.03164553642272949, -0.009809508919715881, -0.020393453538417816, 0.012140406295657158, -0.030051112174987793, 0.003023712895810604, -0.028183357790112495, -0.009665251709520817, -0.013985383324325085, 0.02510080300271511, -0.014706671237945557, 0.014691486023366451, -0.019345687702298164, -0.004449204541742802, -0.010766163468360901, 0.006764916703104973, -0.0172197874635458, -0.006578900385648012, -0.01598980277776718, -0.013074283488094807, -0.0009908211650326848, 0.015610178001224995, -0.020120123401284218, 0.014904076233506203, -0.023278603330254555, -0.011259675957262516, 0.0036178259178996086, 0.009961359202861786, -0.02338489703834057, -0.0041189310140907764, -0.02964111603796482, 0.028107432648539543, -0.03361958637833595, -0.011449488811194897, 0.019755681976675987, -0.005739929154515266, -0.007205281872302294, 0.012732621282339096, -0.013863903470337391, 0.04373279586434364, 0.012565585784614086, 0.007311576511710882, -0.022716756910085678, 0.03489512577652931, 0.011426711454987526, -0.030461106449365616, 0.0064118653535842896, 0.008253046311438084, -0.0018174544675275683, 0.041849855333566666, -0.018313108012080193, 0.02374933660030365, -0.020287157967686653, 0.02210935764014721, -0.00465040560811758, 0.007702590432018042, -0.00037464237539097667, 0.03200997784733772, -0.029140012338757515, -0.010758571326732635, 0.02640671283006668, -0.042487625032663345, -0.013393168337643147, -0.013955013826489449, 0.003587455954402685, 0.016779422760009766, 0.010659868828952312, 0.02768225222826004, -0.01092560589313507, -0.027727806940674782, 0.006707972846925259, -0.02505524642765522, -0.0006624455563724041, -0.011290046386420727, -0.025191912427544594, 0.026254862546920776, -0.02019604854285717, 0.019725313410162926, 0.004764293320477009, -0.00040596144390292466, -0.0358365960419178, -0.010963568463921547, 0.016156837344169617, -0.0031945439986884594, 0.010196726769208908, 0.012656696140766144, 0.014942038804292679, -0.03516845777630806, 0.006692788098007441, 0.022853422909975052, -0.004779478069394827, 0.003012323984876275, 0.002431497909128666, -0.009331181645393372, -0.016035357490181923, 0.0025358947459608316, 0.006863619200885296, 0.007516574114561081, 0.02343045175075531, 0.012178368866443634, -0.03197960555553436, -0.019117912277579308, -0.0020101142581552267, 0.03091665729880333, -0.027575956657528877, -0.0008275824366137385, 0.020074568688869476, 0.010864865966141224, -0.002824409632012248, -0.012489661574363708, 0.022367503494024277, -0.03811434656381607, 0.002961074700579047, -0.006677602883428335, 0.010234689339995384, 0.030066296458244324, 0.01882939785718918, -0.01624794863164425, 0.007736756466329098, -0.0017946769949048758, -0.008670633658766747, -0.004540314432233572, 0.01626313291490078, 0.01790311373770237, 0.014471303671598434, 0.026801522821187973, 0.014729448594152927, -0.0012271376326680183, -0.0038949521258473396, 0.012945211492478848, -0.022291578352451324, -0.025146357715129852, 0.0053071570582687855, -0.013469093479216099, 0.003600742667913437, 0.0004159265954513103, 0.0011578560806810856, -0.02015049196779728, 0.0036254182923585176, -0.003754490753635764, -0.015853138640522957, -0.010599128901958466, 0.007254633121192455, -0.0064953831024467945, 0.014122048392891884, -0.009634881280362606, 0.013021135702729225, -0.02370378188788891, 0.012330218218266964, 0.04002765566110611, -0.015291293151676655, 0.005489376839250326, -0.0028225115966051817, -0.009331181645393372, -0.0003437978448346257, 0.002163862343877554, 0.007600091863423586, 0.02765188179910183, 0.009771546348929405, -0.01269465871155262, 0.001842130091972649, -0.004756700713187456, 0.018146073445677757, -0.02080344781279564, -0.01400056853890419, 0.014577598311007023, -0.011107826605439186, 0.01336279883980751, 0.006571308244019747, -0.009331181645393372, -0.0049465131014585495, 0.020317528396844864, -0.02116788737475872, -0.00357416900806129, -0.006081591825932264, 0.004908550530672073, 0.00337866204790771, 0.04224466532468796, -0.003467873902991414, 0.01320335641503334, 0.0014957223320379853, 0.0057816882617771626, -0.007789904251694679, -0.0030521845910698175, -0.026604117825627327, 0.03222256526350975, -0.0068522305227816105, -0.009088221937417984, -0.0044112419709563255, 0.02634597197175026, -0.015450735576450825, 0.008830076083540916, -0.0035077345091849566, -0.022397872060537338, 0.02346082217991352, 0.012550401501357555, 0.011130603961646557, 0.010614314116537571, -0.011920223943889141, 0.017022382467985153, 0.006548530422151089, -0.016779422760009766, 0.003781064646318555, -0.013400761410593987, -0.004050598479807377, 0.008108789101243019, 0.01661238819360733, 0.011009124107658863, -0.002129696076735854, 0.017174232751131058, -0.0003893528482876718, -0.013370390981435776, 0.002448580926284194, 0.02472117729485035, 0.003756389021873474, -0.03246552497148514, 0.009680435992777348, 0.030081482604146004, -0.024144146591424942, 0.018464958295226097, 0.003181257052347064, 0.0017548163887113333, 0.011145789176225662, -0.005056604277342558, 0.0017045161221176386, -0.012762990780174732, 0.008738966658711433, -0.03450031578540802, 0.011791151016950607, 0.001448269234970212, 0.005952519364655018, 0.006468809209764004, 0.0048667918890714645, 0.010971161536872387, -0.0344395749270916, 0.007820273749530315, 0.006521956995129585, 0.012626325711607933, 0.013393168337643147, 0.0010667461901903152, -0.0012764888815581799, -0.02573857270181179, -6.15111057413742e-05, 0.018130887299776077, -0.013210948556661606, -0.001385631156153977, -0.003055980894714594, -0.016764238476753235, -0.009505809284746647, 0.02540450170636177, 0.016126468777656555, 0.005569098051637411, 0.0037127321120351553, 0.005641227122396231, 0.00602464796975255, -0.005633634515106678, -0.004665590822696686, -0.005724744405597448, -0.011684856377542019, -0.0010050571290776134, -0.009566549211740494, -0.03361958637833595, -0.005329934414476156, -0.013112246058881283, 0.019907532259821892, -0.010652276687324047, -0.0012489660875871778, -0.014008160680532455, 0.0025226077996194363, -0.01860162243247032, -0.00032007129630073905, 0.010090431198477745, 0.02309638261795044, -0.009725991636514664, -0.011328008957207203, -0.00739889033138752, -0.008063234388828278, -0.015071110799908638, 0.015010370872914791, -0.014084085822105408, -0.009999321773648262, 0.008625078946352005, 0.0052957683801651, 0.01664275862276554, 0.003898748429492116, -0.02218528278172016, -0.009057851508259773, -0.011912630870938301, -0.023278603330254555, -0.023567117750644684, 0.006875007878988981, 0.008761744014918804, -0.01564054749906063, -0.003202136605978012, 0.005193269345909357, 0.00911859143525362, 0.018054962158203125, -0.023916373029351234, -0.001456810743547976, 0.011829113587737083, -0.044097233563661575, 0.021016037091612816, 0.004005043301731348, -0.0013932236470282078, 0.007452038116753101, -0.010439686477184296, -0.011555783450603485, -0.007759534288197756, 0.0006017055711708963, 0.016172023490071297, -0.0143422307446599, -0.018161257728934288, -0.0027864472940564156, 0.010447278618812561, -0.0016694007208570838, 0.012899655848741531, -0.017386823892593384, 0.002420108998194337, -0.009194516576826572, 0.005971500650048256, 0.006749731954187155, -0.010014506056904793, -0.014380193315446377, 0.01655164733529091, -0.0002600431034807116, 0.0052274358458817005, 0.011138196103274822, 0.01546592079102993, -0.02469080686569214, 0.03711213544011116, 0.0021695566829293966, -0.008192306384444237, -0.008344156667590141, 0.013127431273460388, -0.0013201457913964987, -0.01656683348119259, -0.012542808428406715, 0.014676300808787346, -0.012793361209332943, 0.0029800559859722853, 0.02119825780391693, -0.011958186514675617, 0.04251799359917641, 0.029504451900720596, 0.005417248234152794, -0.007903791964054108, -0.015594993717968464, -0.001206258311867714, 0.011100233532488346, -0.011851890943944454, 0.007956938818097115, 0.005443822126835585, 0.014691486023366451, -0.022276392206549644, -0.02924630604684353, 0.011282454244792461, -0.012497253715991974, 0.014570006169378757, 0.012937618419528008, 0.007000284269452095, 0.003460281528532505, 0.012603548355400562, 0.016384612768888474, -0.031129246577620506, -0.027879657223820686, 0.009498216211795807, -0.009247664362192154, 0.012315033935010433, 0.016369428485631943, 0.0068712118081748486, 0.0022208059672266245, 0.0026953371707350016, 0.0007345742778852582, -0.016749052330851555, 0.023855632171034813, 0.003587455954402685, 0.0011825317051261663, 0.0035456970799714327, -0.00018779572565108538, -0.008427673950791359, -0.0012556095607578754, -0.01920902356505394, -0.023248232901096344, -0.016657942906022072, 0.028107432648539543, 0.0020006236154586077, 0.01463833823800087, -0.009019888937473297, -0.01397019810974598, 0.004923735745251179, 0.013696868903934956, -0.0032875521574169397, -0.005086974240839481, 0.023278603330254555, 0.00978673156350851, 0.0016731970245018601, 0.015238146297633648, 0.00014983322762418538, -0.018328292295336723, 0.01074338611215353, -0.007220466621220112, 0.008625078946352005, 0.02532857656478882, -0.0007165421266108751, 0.002142982790246606, 0.03152405843138695, 0.0041341157630085945, 0.012641510926187038, -0.010713016614317894, 0.006191683001816273, 0.015352033078670502, -0.0012888266937807202, -0.025784127414226532, -0.013081875629723072, -0.018616808578372, -0.008488413877785206, -0.0011920223478227854, -0.011980963870882988, 0.001931341947056353, -0.01024228148162365, 0.023187492042779922, 0.014615560881793499, 0.021927136927843094, -0.00513252941891551, 0.00692056305706501, 0.02210935764014721, -2.86943086393876e-05, -0.012641510926187038, -0.0003098688612226397, -0.005914556793868542, -0.0013116042828187346, -0.013127431273460388, -0.006195479538291693, 0.0018734491895884275, 0.03711213544011116, 0.0018022694857791066, -0.015154628083109856, -0.0028225115966051817, -0.03352847695350647, -0.013165393844246864, -0.010804126039147377, -0.016460537910461426, -0.009612103924155235, -0.03158479556441307, 0.00020286209473852068, -7.034924783511087e-05, 0.04743793606758118, 0.02543487213551998, -0.0225041676312685, 0.014896483160555363, 0.013256503269076347, -0.006377699319273233, -0.012451699003577232, -0.00946025364100933, -0.00019396463176235557, 0.012459291145205498, 0.00911859143525362, 0.003040795912966132, 0.0016475722659379244, -0.01922420784831047, -0.036990657448768616, -0.00028851497336290777, -0.005185676738619804, -0.004631424322724342, 0.019406428560614586, -0.008328971453011036, 0.013620943762362003, -0.006912970449775457, -0.0172197874635458, 0.012884471565485, 0.01989234797656536, 0.01091042160987854, 0.005671597085893154, 0.0158986933529377, -0.006518160458654165, -0.0032476915512233973, 0.010272650979459286, -0.007144541945308447, 0.01464593131095171, 0.014812965877354145, -0.002906029112637043, 0.019907532259821892, 0.0031072301790118217, 0.02308119833469391, -0.0017481729155406356, 0.01624794863164425, -0.014949630945920944, -0.001295470166951418, -0.004384668078273535, 0.0071103754453361034, 0.0025358947459608316, -0.009718398563563824, -0.023582302033901215, -0.022063802927732468, 0.0026573745999485254, -0.022898977622389793, -0.008761744014918804, -0.005071789491921663, 0.002148677362129092, 0.00946025364100933, 0.004289762116968632, -0.013795571401715279, 0.003963284660130739, 0.0040809684433043, -0.010697831399738789, 0.0022682591807097197, -0.009976543486118317, 0.033710695803165436, -0.014144825749099255, -0.014410563744604588, 0.030339626595377922, -0.0071293567307293415, 0.006483994424343109, 0.006848434451967478, -0.0049692909233272076, -0.003948099445551634, 0.0016874329885467887, -0.013446316123008728, 0.01762978360056877, 0.002207519020885229, 0.008868038654327393, 0.018146073445677757, -0.013302058912813663, 0.02215491235256195, -0.035684745758771896, 0.004646609537303448, 0.040847644209861755, 0.0003032254462596029, 0.0052084545604884624, 0.010713016614317894, 0.0024239053018391132, 0.0032400989439338446, 0.004585869610309601, 0.016156837344169617, 0.021365292370319366, 0.020575672388076782, -0.014843336306512356, -0.009665251709520817, -0.01690090261399746, -0.01858643814921379, -0.006130943074822426, 0.005235027987509966, -0.019770868122577667, 0.010834496468305588, -0.014858520589768887, -0.010978753678500652, -0.0015384301077574492, -0.012231515720486641, -0.018100518733263016, -0.01989234797656536, 0.017705708742141724, -0.018389033153653145, 0.019026802852749825, 0.006768713239580393, 0.010530795902013779, 0.009065443649888039, 0.005667800549417734, 0.002180945361033082, -0.0131957633420825, -0.03185812756419182, 0.006521956995129585, 0.004137911833822727, 0.018373848870396614, -0.0010031589772552252, 0.01691608875989914, -0.007311576511710882, -0.015002778731286526, -0.010196726769208908, 0.019968273118138313, 0.016718683764338493, -0.021957507357001305, 0.004453000612556934, 0.006886396557092667, 0.019087543711066246, -0.0009338774252682924, -0.0018554170383140445, 0.0038721745368093252, 0.010287836194038391, -0.015131850726902485, -0.013643721118569374, 0.005515950731933117, 0.0002256395819131285, 0.0048667918890714645, 0.006537141744047403, -0.009612103924155235, 0.010067653842270374, 0.002915519755333662, 0.001788033521734178, -0.002387840999290347, 0.025617092847824097, -0.03425735607743263, 0.0023460823576897383, 0.02013530768454075, 0.02569301798939705, -0.016536463052034378, 0.0022853421978652477, -0.0008641213062219322, 0.016430167481303215, -0.0035419007763266563, -0.007247040513902903, 0.004206244368106127, 0.008116381242871284, -0.01349946390837431, 0.02991444617509842, 5.385929034673609e-05, 0.006377699319273233, -0.002044280292466283, 0.006632048171013594, 0.005645023193210363, 0.005022438243031502, -0.015177405439317226, -0.015382403507828712, -0.019755681976675987, 0.01236818078905344, -0.03122035600244999, -0.009862656705081463, -0.002397331641986966, -0.028061876073479652, 0.006373903248459101, -0.0007488102419301867, 0.015549438074231148, -0.022534538060426712, 0.0006145178922452033, 0.008807298727333546, -0.004547907039523125, 0.01237577386200428, -0.008746558800339699, -0.017007198184728622, 0.0075697218999266624, -0.012580770999193192, -0.006677602883428335, -0.01755385845899582, -0.001787084504030645, 0.005713355727493763, 0.025662647560238838, 0.012975580990314484, -0.017083123326301575, 0.003361579030752182, 0.0003910137165803462, -0.004342909436672926, -0.009703214280307293, -0.0039405073039233685, 0.024250442162156105, 0.005269194487482309, -0.0016437760787084699, -0.01661238819360733, -0.021562697365880013, -0.03419661521911621, -0.006104369182139635, 0.011350786313414574, 0.0289577916264534, 0.013848718255758286, 0.012110035866498947, -0.012444105930626392, -0.0038949521258473396, 0.01106986403465271, 0.011153381317853928, 0.019649388268589973, -0.009141368791460991, -0.0005998074193485081, 0.00017925415886566043, 0.0013220439432188869, -0.00446438929066062, 0.00946784671396017, 0.004642813466489315, -0.000670038047246635, -0.011479858309030533, 0.017432378605008125, 0.017113493755459785, 0.007770922966301441, 0.00015552759577985853, 7.728926721028984e-05, -0.031022951006889343, 0.0030711658764630556, 0.011965778656303883, -0.0027314014732837677, 0.01729571260511875, 0.0028984365053474903, -0.007926569320261478, 0.020727522671222687, 0.03604918718338013, 0.0032514878548681736, -0.015321663580834866, -0.028137801215052605, -0.021289367228746414, 0.006294182036072016, 0.022701572626829147, -0.008685818873345852, 0.013309651054441929, 0.019345687702298164, -0.031767018139362335, -0.01688571833074093, -0.0086098937317729, 3.772522904910147e-05, 0.0019161569653078914, 0.01688571833074093, 0.012816138565540314, 0.003558984026312828, -0.0037943513598293066, 0.011586153879761696, 0.02176010236144066, -0.006905377842485905, 0.014782595448195934, -0.008169529028236866, -1.158152736024931e-05, -0.001001260825432837, 0.0105915367603302, -0.02242824248969555, -0.005189473275095224, 0.029717041179537773, -0.01762978360056877, 0.023020457476377487, 0.002725707134231925, 0.0048478106036782265, -0.018297923728823662, 0.015868322923779488, -0.012831323780119419, -0.025541167706251144, -0.003756389021873474, -0.0055045620538294315, 0.017356453463435173, 0.0009409953490830958, -0.023187492042779922, -0.0069319517351686954, -0.014904076233506203, -0.012413736432790756, -0.009293219074606895, -0.006893989164382219, 0.019026802852749825, -0.013423538766801357, -0.00733435433357954, -0.011563376523554325, 0.013142616488039494, 0.0033596809953451157, -0.006168905645608902, -0.004654202144593, 0.01624794863164425, 0.008579524233937263, 0.019467167556285858, -0.0021050204522907734, -0.0032495895866304636, 0.0039025445003062487, -0.004183467011898756, 0.01349946390837431, 0.021380478516221046, 0.009642474353313446, -0.010705423541367054, -0.024022666737437248, 0.0017633578972890973, 0.019907532259821892, -0.00016727224283386022, 0.02185121178627014, -0.019376058131456375, -0.004020228516310453, -0.00280542834661901, 0.007717775646597147, 0.0011996148386970162, 0.015716472640633583, 0.0016788913635537028, 0.006108165718615055, -0.010659868828952312, 0.028183357790112495, -0.006559919100254774, -0.0018829398322850466, -0.002763669705018401, 0.01655164733529091, 0.021881582215428352, 0.006586492992937565, 0.0013704460579901934, 0.007657035253942013, -0.0169464573264122, -0.004198652226477861, -0.008351748809218407, 0.001020242110826075, 0.021653806790709496, -0.005531135480850935, -0.013955013826489449, 0.0019190041348338127, 0.00756212929263711, 0.008913594298064709, 0.008997111581265926, -0.022246021777391434, -0.008670633658766747, 0.026892632246017456, 0.0035988446325063705, -0.01955827698111534, 0.01104708667844534, 0.00561465322971344, 0.014463710598647594, -0.0029971390031278133, -0.019284948706626892, 0.015731658786535263, 0.0056829857639968395, -0.00386078585870564, 0.010819311253726482, 0.0018013204680755734, -0.001332483603619039, -0.010728200897574425, -0.0006733597838319838, -0.011282454244792461, 0.010659868828952312, 0.011009124107658863, -0.007163522765040398, -0.03094702586531639, -0.0018630095291882753, -0.023050827905535698, 0.004521333146840334, 0.011282454244792461, 0.013415945693850517, 0.004764293320477009, -0.01591387763619423, -0.011662079021334648, -0.005159103311598301, -0.008055641315877438, -0.008420081809163094, 0.009240071289241314, -0.015367218293249607, 0.009103406220674515, 0.01919383741915226, 0.0019123607780784369, 0.007266021799296141, -0.011259675957262516, 0.006586492992937565, -0.03668695688247681, -0.009680435992777348, -0.012451699003577232, 0.0052046580240130424, -0.002306221518665552, -0.01056116633117199, -0.01381834875792265, -0.011555783450603485, 0.006821860559284687, -0.019937902688980103, 0.0009281830280087888, 0.008374526165425777, -0.003409032244235277, -0.013825940899550915, 0.005345119629055262, -0.008101196959614754, 0.006332144141197205, 0.02794039621949196, -0.0003158005129080266, 0.00845045130699873, 0.017736077308654785, 0.009217293933033943, -0.03061295673251152, -0.015048333443701267, 0.013666498474776745, 0.010963568463921547, -0.003390050958842039, 0.004745312035083771, -0.0027048278134316206, -0.0120492959395051, 0.005337527021765709, 0.006366310641169548, -0.016172023490071297, 0.014463710598647594, 0.018070148304104805, 0.022595277056097984, -0.004897161852568388, -0.018009407445788383, -5.887152838113252e-06, 0.02280786819756031, -0.003997450694441795, 0.0023365917149931192, 0.012474476359784603, 0.00925525650382042, -0.01381834875792265, 0.01189744658768177, -0.000607399910222739, 0.004980679601430893, 0.014046123251318932, -0.013370390981435776, 0.011692448519170284, -0.007607684005051851, 0.019391242414712906, -0.01381075568497181, -0.006764916703104973, -0.005576690658926964, 0.0020063179545104504, -0.03134183585643768, -0.017341267317533493, 0.006685195490717888, -0.0243719220161438, -0.003521021455526352, 0.011502636596560478, 0.005819650832563639, -0.018282737582921982, 0.0004560244851745665, 0.004369483329355717, 0.008716189302504063, -0.0040809684433043, -8.71209613251267e-06, -0.021213442087173462, 0.006878804415464401, -0.003596946597099304, 0.005618449300527573, 0.0032325065694749355, 0.0052046580240130424, -0.00609677704051137, 0.019239392131567, 0.004639016930013895, 0.0004002670757472515, 0.010993938893079758, 0.004912347067147493, -0.00739889033138752, -0.007987309247255325, 0.025814497843384743, 0.01627831906080246, -0.013643721118569374, -0.009984136559069157, 0.0027940396685153246, -0.04588906466960907, -0.015450735576450825, 0.017432378605008125, -0.01419038139283657, 0.024220071732997894, -0.036595847457647324, 0.010864865966141224, 0.015883509069681168, 0.019634202122688293, 0.025222282856702805, -0.01412964053452015, -0.02344563789665699, 0.0002688219246920198, -0.002241685288026929, -0.0051249368116259575, 0.017781633883714676, -0.02866927720606327, 0.019786052405834198, 0.003932914696633816, -0.03492549806833267, -0.011259675957262516, 0.019998643547296524, 0.0026421896182000637, 0.01042450126260519, 0.0032419972121715546, 0.025617092847824097, -0.022883793339133263, -0.005242620594799519, 0.01008283905684948, 0.0045934622175991535, -0.0031319058034569025, 0.010864865966141224, 0.0024637659080326557, -0.02056048810482025, -0.006935747805982828, 0.001037325244396925, -0.0006894938414916396, 0.03978469595313072, -0.017371637746691704, -0.0057627069763839245, -0.0020252992399036884, -0.028547797352075577, -0.0035191234201192856, -0.0048705884255468845, -0.002420108998194337, 0.0004944615066051483, 0.009665251709520817, 0.007759534288197756, -0.0002301476342836395, -0.006385291926562786, -0.003224913962185383, 0.015344440937042236, 0.008025271818041801, 0.024174517020583153, 0.006055017933249474, -0.00991580355912447, -0.0010344779584556818, -0.023886002600193024, -0.012072073295712471, -0.014524450525641441, 0.007873421534895897, -0.007212874013930559, -0.0015602585626766086, -0.01154819130897522, 0.006525753065943718, -0.007258429192006588, 0.009035074152052402, -0.018753472715616226, -0.02308119833469391, 0.027575956657528877, -0.004919939674437046, 0.0011692448752000928, 0.00911859143525362, -0.004536518361419439, -0.00815434381365776, 0.007881014607846737, 0.0023726560175418854, -0.03425735607743263, -0.0002975310490000993, -0.002761771669611335, -0.021319737657904625, 0.002308119786903262, 0.006001870613545179, -0.0034261152613908052, -0.0019190041348338127, -0.0029193158261477947, -0.004730126820504665, 0.0031964422669261694, -0.0009514350676909089, -0.004479574505239725, 0.008708596229553223, 0.023567117750644684, 0.0204845629632473, -0.0032761634793132544, -0.019740497693419456, -0.003270468907430768, -0.025632277131080627, -0.014653523452579975, 0.01219355408102274, 0.002217009663581848, -0.013188171200454235, 0.021076777949929237, 0.0035646783653646708, 0.025237467139959335, -0.003710834076628089, -0.0028301039710640907, 0.016414983198046684, -0.0043163360096514225, 0.007000284269452095, -0.0059373341500759125, -0.0003831839421764016, 0.026103012263774872, -0.009475438855588436, 0.016809793189167976, -0.020074568688869476, 0.0056791892275214195, -0.016855347901582718, -0.008951556868851185, 0.0003006155020557344, -0.019786052405834198, -0.0003288501175120473, 0.031767018139362335, 0.007512778043746948, -0.02797076664865017, -0.009809508919715881, -0.01381075568497181, -0.03343736752867699, -0.007368520367890596, 0.021547513082623482, 0.011533006094396114, -0.02147158794105053, -0.006514364387840033, 0.004711145535111427, -0.022580092772841454, 0.006222052965313196, 0.012960395775735378, -0.024857841432094574, 0.02024160325527191, 0.014881297945976257, 0.004661794286221266, 0.005542524624615908, 0.028760386630892754, -0.016870534047484398, 0.002063261577859521, 0.00892877858132124, -0.005136325489729643, 0.004487167112529278, -0.0045706843957304955, 0.013180578127503395, 0.009240071289241314, 0.00618409039452672, 0.0024087203200906515, -0.012960395775735378, -0.005827242974191904, 0.02865409106016159, -0.002313814125955105, -0.004821237176656723, 0.006324551999568939, 0.007121764123439789, -0.024827472865581512, 0.006222052965313196, 0.029215937480330467, -0.011745596304535866, 0.01234540343284607, -0.025510797277092934, 0.017994223162531853, 0.003371069673448801, -0.005557709373533726, 0.01383353304117918, 0.008579524233937263, -0.00038887831033207476, 0.004680775571614504, 0.00341472658328712, -0.008807298727333546, 0.02734818123281002, -5.027064980822615e-05, -0.021562697365880013, 0.0028756591491401196, 0.008123974315822124, 0.003399541601538658, 0.0007540300721302629, -0.016506092622876167, -0.008070826530456543, -0.01412964053452015, -0.014213158749043941, 0.005090770777314901, 0.0028984365053474903, 0.010485241189599037, 0.016536463052034378, 0.022048616781830788, 0.012960395775735378, -0.0006372954230755568, -0.015746843069791794, -0.004483370576053858, -0.003479262813925743, -0.007163522765040398, 0.008078418672084808, -0.0012015129905194044, -0.0047491081058979034, 0.007136949338018894, 0.002342286054044962, 0.0007454885053448379, -0.0191634688526392, 0.016475724056363106, -0.002718114759773016, 0.011282454244792461, -0.009672843851149082, 0.004563091788440943, -0.02866927720606327, 0.004430223256349564, 0.0131957633420825, -0.004775681998580694, -0.01498759351670742, -0.00382661959156394, 0.004320132080465555, 0.004327724687755108, 0.0009670945582911372, -0.008420081809163094, 0.010394131764769554, 0.014205565676093102, 0.009376736357808113, -0.023050827905535698, -0.01266428828239441, -0.014653523452579975, -0.016050543636083603, 0.0007279308629222214, -0.0163238737732172, 0.011403934098780155, -0.008845261298120022, 0.005496969446539879, 0.00026265301858074963, 0.006241034250706434, -0.020606042817234993, -0.021334921941161156, 0.008716189302504063, 0.001636183587834239, 0.026163751259446144, 0.017812002450227737, 0.015109073370695114, -0.008518784306943417, 0.03774990513920784, -0.007672220468521118, 0.015291293151676655, -0.0004897161852568388, -0.01762978360056877, 0.002340387785807252, 0.007247040513902903, 0.0033634770661592484, -0.007410279009491205, 0.0003428487980272621, 0.028456686064600945, 0.011426711454987526, 0.010728200897574425, 0.0016589610604569316, -0.0007350488449446857, 0.0010572555474936962, -0.011130603961646557, -0.011123010888695717, -0.004597258288413286, 0.01320335641503334, 0.025632277131080627, -0.01189744658768177, -0.004741515964269638, 0.0008532070787623525, 0.007611480541527271, -0.024554142728447914, 0.00024118048895616084, 0.008685818873345852, -0.027165962383151054, 0.020985668525099754, -0.0025358947459608316, -0.0008247352088801563, -0.0025074228178709745, -0.004244206938892603, 0.011123010888695717, -0.01058394368737936, -0.020029012113809586, 0.002440988551825285, 0.02502487786114216, -0.00666621420532465, -0.01920902356505394, -0.012482068501412868, -0.009703214280307293, 0.008032863959670067, -0.035289935767650604, 0.0009172688005492091, -0.009976543486118317, 0.0005328985280357301, -0.00976395420730114, -0.03422698751091957, -0.027408922091126442, -0.004927531816065311, -0.016050543636083603, -0.010044876486063004, -0.012550401501357555, 0.014858520589768887, 0.0073875016532838345, 0.004008839372545481, 0.0038493971806019545, -0.017067939043045044, 0.009741176851093769, -0.031767018139362335, -0.004597258288413286, 0.0202112328261137, -0.008875631727278233, -0.02376452274620533, 0.011328008957207203, -0.00045887165470048785, -0.017341267317533493, 0.0047908672131598, 0.0005333730950951576, -0.00627899682149291, -0.008579524233937263, -0.014539635740220547, 0.011874668300151825, -0.004130319692194462, -0.017477933317422867, 0.005929742008447647, -0.01320335641503334, 0.0053223418071866035, -0.0018231489229947329, 0.006385291926562786, 0.009505809284746647, 0.0055007655173540115, 0.0070496355183422565, 9.37199147301726e-05, 0.012239108793437481, 0.0037772683426737785, 0.008063234388828278, 0.0002683473867364228, -0.010189133696258068, -0.009407106786966324, -0.018039777874946594, -0.01623276248574257, 0.0008745610248297453, 0.005052808206528425, -0.016414983198046684, -0.012892063707113266, -0.020363083109259605, 0.00037393058300949633, -0.009080628864467144, 0.01793348230421543, -0.0012299849186092615, 0.006191683001816273, 0.00892877858132124, 0.0009115744614973664, -0.010659868828952312, -0.016369428485631943, -0.008837669156491756, -0.003065471537411213, -0.013552610762417316, 0.00013381779717747122, 0.006172701716423035, 0.004783274605870247, 0.005633634515106678, 0.011882261373102665, -0.016111282631754875, -0.013529833406209946, 0.016460537910461426, 0.011510228738188744, 0.009338773787021637, 0.009520993568003178, -0.003970877267420292, -0.0025320984423160553, 0.02379489317536354, 0.013021135702729225, 0.001018343959003687, -0.008116381242871284, 0.00455929571762681, -0.00386078585870564, 0.004608646966516972, 0.0041493009775877, -0.0030578789301216602, -0.025935977697372437, 0.017812002450227737, 0.020636413246393204, 0.006658621598035097, -0.008025271818041801, 0.02151714265346527, 0.003245793515816331, 0.0013210948091000319, 0.0358365960419178, -0.013461501337587833, -0.0012584567302837968, 0.012762990780174732, -0.01349187083542347, 0.02084900252521038, 0.004001247230917215, 0.007452038116753101, -0.0179182980209589, -0.0017813901649788022, -0.0006206867983564734, -0.010166356340050697, 0.00545521080493927, 0.020029012113809586, -0.009528586640954018, 0.010113208554685116, 0.015389995649456978, 0.03559363633394241, 0.017796818166971207, -0.014175196178257465, -0.016475724056363106, -0.03358921781182289, 0.01157096866518259, -0.007607684005051851, 0.009672843851149082, 0.020029012113809586, 0.020044198259711266, 0.01266428828239441, 0.007463426794856787, -0.018981248140335083, 0.002251175930723548, 0.022716756910085678, -0.006271404214203358, -0.030779991298913956, 0.01482055801898241, 0.0005888931918889284, 0.016172023490071297, 0.022640831768512726, 0.008199899457395077, -0.022716756910085678, -0.02112233266234398, 0.0077633303590118885, -0.0266648568212986, -0.00682565663009882, 0.0120492959395051, 0.03128109499812126, 0.00478707067668438, -0.010439686477184296, -0.009156554006040096, 0.018647177144885063, -0.011533006094396114, -0.0032040346413850784, -0.008663041517138481, 0.014167603105306625, -0.005812058225274086, -0.025571538135409355, 0.011624116450548172, 0.0018383339047431946, -0.00455929571762681, 0.013241318985819817, -0.0015697492053732276, -0.0026402915827929974, 0.008587116375565529, 0.00022291102504823357, 0.005459006875753403, -0.004073375836014748, -0.0022454815916717052, 0.01088005118072033, 0.0007872472633607686, -0.00043965314398519695, -0.011958186514675617, -0.012428920716047287, 0.026254862546920776, 0.014402970671653748, 2.199155460402835e-05, -0.017994223162531853, 0.0012707945425063372, 0.0028111229185014963, 0.012147998437285423, -0.016080914065241814, -0.01688571833074093, -0.003670973237603903, 0.01752348802983761, 0.019345687702298164, 0.021258996799588203, 0.017447562888264656, -0.02022641710937023, 0.02054530195891857, -0.0010411214316263795, -0.004156893119215965, -0.019376058131456375, -0.01088005118072033, -0.003403337672352791, 0.006654825527220964, -0.008951556868851185, 0.008101196959614754, 0.007911384105682373, -0.00845045130699873, 0.0010240382980555296, 0.0032325065694749355, 0.012679473496973515, 0.003441300243139267, -0.018039777874946594, 0.011328008957207203, -0.0324958972632885, -0.0018165054498240352, 0.022018248215317726, -0.0014425748959183693, -0.011441896669566631, -0.013347613625228405, 0.012117628939449787, -0.01920902356505394, 0.008746558800339699, -0.009110999293625355, -0.01720460318028927, 0.0021695566829293966, -0.008518784306943417, -0.011335601098835468, -0.003226812230423093, -0.004893365781754255, 0.0006966118235141039, -0.028517426922917366, -0.029124826192855835, 0.014911668375134468, -0.015291293151676655, 0.01514703594148159, -0.005626041907817125, -0.0031072301790118217, -0.0007915180176496506, 0.0005813007010146976, -0.004695960786193609, 0.005720948334783316, -0.015154628083109856, 0.0014349822886288166, 0.005846224259585142, 0.003836110234260559, 0.012292256578803062, 0.0025643666740506887, 0.010356169193983078, 0.00755833275616169, -0.031083691865205765, 0.01072060875594616, -0.011745596304535866, 0.010272650979459286, 0.002342286054044962, 0.016217578202486038, 0.0097563611343503, -0.044704634696245193, -0.013461501337587833, 0.012960395775735378, 0.007600091863423586, -0.002682050224393606, -0.0105915367603302, -0.0032306083012372255, -0.0013789876829832792, -0.005314749199897051, 0.011775965802371502, 0.004225225653499365, -0.027120407670736313, -0.007918976247310638, -0.014235936105251312, -0.026588931679725647, 0.0038190269842743874, -0.009824694134294987, -0.004938920494168997, -0.013955013826489449, 0.003200238337740302, -0.009748768992722034, -0.015822768211364746, 0.007706386502832174, 0.05427118390798569, -0.002467562211677432, -0.015025556087493896, 0.0046693868935108185, -0.005235027987509966, -0.009657658636569977, -0.012542808428406715, -0.012785769067704678, -0.0009965155040845275, 0.017644967883825302, -0.0036045389715582132, -0.011677263304591179, -0.019436797127127647, 0.01662757247686386, -0.0027959379367530346, 0.006726954132318497, -0.017341267317533493, 0.02338489703834057, -0.005424840841442347, -0.005018642172217369, 0.022306762635707855, -0.0007184402202256024, 0.009240071289241314, -0.007281206548213959, 0.009566549211740494, 0.018282737582921982, 0.01234540343284607, 0.0027674660086631775, 0.005117344669997692, 0.015534252859652042, -0.011259675957262516, 0.0008062284905463457, -0.012770583853125572, -0.01252762321382761, 0.022337133064866066, 0.02212454192340374, -0.012960395775735378, 0.008997111581265926, 0.011608931235969067, -0.01885976828634739, 0.008116381242871284, -0.003591252025216818, -0.027894841507077217, -0.010371353477239609, -0.00815434381365776, 0.0006050272495485842, -0.005747521761804819, -0.0008593759848736227, 0.0006686144624836743, 0.01788792759180069, 0.0058386316522955894, -0.008511191233992577, -0.005747521761804819, 0.006275200750678778, -0.011654485948383808, 0.006571308244019747, 0.021927136927843094, 0.005565301980823278, -0.02699892781674862, 0.006901581771671772, 0.008116381242871284, -0.012755398638546467, 0.004923735745251179, 0.001573545509018004, 0.0031432947143912315, 0.007266021799296141, -0.00909581407904625, -0.008328971453011036, -0.002315712161362171, 0.0011132501531392336, -0.011798744089901447, 0.00691676652058959, -0.0017937279772013426, -0.004779478069394827, 0.010006913915276527, -0.003393847029656172, -0.009961359202861786, 0.002209417289122939, 0.007026858162134886, -0.009900619275867939, 0.03686917573213577, -0.01203411165624857, -0.01825236715376377, -0.023643042892217636, 0.02766706608235836, -0.024888211861252785, 0.03398402780294418, 0.007926569320261478, 0.01788792759180069, -0.011479858309030533, 0.008981926366686821, 0.02768225222826004, 0.007152134086936712, 0.006077795755118132, 0.017113493755459785, -0.02147158794105053, 0.0007350488449446857, -0.0019209022866562009, 0.00430874340236187, 0.0056640044786036015, -0.011882261373102665, 0.012816138565540314, 0.0075697218999266624, -0.024979323148727417, 0.0034469945821911097, -0.002272055484354496, -0.023840447887778282, -0.004263188224285841, 0.0004083341045770794, -0.015063518658280373, -0.008215083740651608, -0.012755398638546467, 0.0029307047370821238, 0.0037317133974283934, 0.019041987136006355, -0.00018921931041404605, 0.018434587866067886, 0.012846508994698524, 0.005641227122396231, 0.027910027652978897, -0.010340983979403973, 0.02147158794105053, -0.0031698683742433786, -0.02049974724650383, 0.01498000044375658, 0.0010079042986035347, 0.003549493383616209, 0.031129246577620506, -0.02245861291885376, 0.017356453463435173, -0.00293260277248919, 0.008032863959670067, 0.00023168986081145704, -0.011031901463866234, 0.012520031072199345, 0.005079382099211216, -0.011214121244847775, -0.0016741460422053933, -0.0021410847548395395, -0.004828829318284988, -0.010599128901958466, 0.03705139458179474, 0.011935409158468246, 0.02671041153371334, -0.0010686442255973816, -0.010675054043531418, 0.016111282631754875, -0.01173041108995676, -0.008533969521522522, 0.006867415737360716, -0.00957414135336876, 0.017174232751131058, 0.004783274605870247, -0.009984136559069157, -0.006267608143389225, 0.026300417259335518, -0.01952790841460228, 0.023901186883449554, 9.069477528100833e-05, 0.0218056570738554, -0.006776305381208658, 0.00045982073061168194, 0.027165962383151054, -0.026254862546920776, 0.01592906378209591, 0.0010733895469456911, 0.00957414135336876, 0.01349187083542347, -0.0033312090672552586, 0.02371896803379059, -0.011495043523609638, -0.0034735684748739004, -0.01568610407412052, 0.020606042817234993, -0.013347613625228405, 0.0011559580452740192, 0.019710127264261246, 0.0038911558222025633, -0.015260923653841019, -0.01696164347231388, -0.008632672019302845, 0.005470395553857088, -0.006981302984058857, 0.0036519921850413084, -0.009422291070222855, -0.007805089000612497, -0.006111961789429188, -0.0005599468131549656, -0.028881866484880447, -0.006419457960873842, 0.007956938818097115, -0.012793361209332943, -5.5431177315767854e-05, -0.006324551999568939, -0.031129246577620506, 0.0040543945506215096, -0.042123183608055115, 0.01790311373770237, -0.004695960786193609, 0.006282792892307043, 0.0026592728681862354, -0.01986197754740715, -0.018616808578372, -0.02668004296720028]\n",
            "Vector Length: 3072\n"
          ]
        }
      ]
    },
    {
      "cell_type": "code",
      "source": [
        "q_client.search(\n",
        "    collection_name=\"arxiv_chunks\",\n",
        "    query_vector=(\"summary\" ,get_text_embedding(\"machine learning in sound and diffusion\")),\n",
        "    with_payload=[\"summary\", \"title\", \"authors\"],\n",
        "    limit=2\n",
        ")"
      ],
      "metadata": {
        "colab": {
          "base_uri": "https://localhost:8080/"
        },
        "id": "-_yL6IEUujBi",
        "outputId": "b3ff46ca-29df-4b28-8b29-2b75b8c5b584"
      },
      "execution_count": 12,
      "outputs": [
        {
          "output_type": "execute_result",
          "data": {
            "text/plain": [
              "[ScoredPoint(id='4b6c8500-63ec-4802-9e64-c11f8f0a50f8', version=0, score=0.413606, payload={'title': 'Diffsound: Discrete Diffusion Model for Text-to-sound Generation', 'authors': ['Dongchao Yang', 'Jianwei Yu', 'Helin Wang', 'Wen Wang', 'Chao Weng', 'Yuexian Zou', 'Dong Yu'], 'summary': 'Generating sound effects that humans want is an important topic. However,\\nthere are few studies in this area for sound generation. In this study, we\\ninvestigate generating sound conditioned on a text prompt and propose a novel\\ntext-to-sound generation framework that consists of a text encoder, a Vector\\nQuantized Variational Autoencoder (VQ-VAE), a decoder, and a vocoder. The\\nframework first uses the decoder to transfer the text features extracted from\\nthe text encoder to a mel-spectrogram with the help of VQ-VAE, and then the\\nvocoder is used to transform the generated mel-spectrogram into a waveform. We\\nfound that the decoder significantly influences the generation performance.\\nThus, we focus on designing a good decoder in this study. We begin with the\\ntraditional autoregressive decoder, which has been proved as a state-of-the-art\\nmethod in previous sound generation works. However, the AR decoder always\\npredicts the mel-spectrogram tokens one by one in order, which introduces the\\nunidirectional bias and accumulation of errors problems. Moreover, with the AR\\ndecoder, the sound generation time increases linearly with the sound duration.\\nTo overcome the shortcomings introduced by AR decoders, we propose a\\nnon-autoregressive decoder based on the discrete diffusion model, named\\nDiffsound. Specifically, the Diffsound predicts all of the mel-spectrogram\\ntokens in one step and then refines the predicted tokens in the next step, so\\nthe best-predicted results can be obtained after several steps. Our experiments\\nshow that our proposed Diffsound not only produces better text-to-sound\\ngeneration results when compared with the AR decoder but also has a faster\\ngeneration speed, e.g., MOS: 3.56 \\\\textit{v.s} 2.786, and the generation speed\\nis five times faster than the AR decoder.'}, vector=None, shard_key=None),\n",
              " ScoredPoint(id='0748d87a-1d9b-45bb-80ba-5e9de8c3b3f5', version=0, score=0.31972945, payload={'title': 'A framework for the extraction of Deep Neural Networks by leveraging public data', 'authors': ['Soham Pal', 'Yash Gupta', 'Aditya Shukla', 'Aditya Kanade', 'Shirish Shevade', 'Vinod Ganapathy'], 'summary': 'Machine learning models trained on confidential datasets are increasingly\\nbeing deployed for profit. Machine Learning as a Service (MLaaS) has made such\\nmodels easily accessible to end-users. Prior work has developed model\\nextraction attacks, in which an adversary extracts an approximation of MLaaS\\nmodels by making black-box queries to it. However, none of these works is able\\nto satisfy all the three essential criteria for practical model extraction: (1)\\nthe ability to work on deep learning models, (2) the non-requirement of domain\\nknowledge and (3) the ability to work with a limited query budget. We design a\\nmodel extraction framework that makes use of active learning and large public\\ndatasets to satisfy them. We demonstrate that it is possible to use this\\nframework to steal deep classifiers trained on a variety of datasets from image\\nand text domains. By querying a model via black-box access for its top\\nprediction, our framework improves performance on an average over a uniform\\nnoise baseline by 4.70x for image tasks and 2.11x for text tasks respectively,\\nwhile using only 30% (30,000 samples) of the public dataset at its disposal.'}, vector=None, shard_key=None)]"
            ]
          },
          "metadata": {},
          "execution_count": 12
        }
      ]
    },
    {
      "cell_type": "code",
      "source": [
        "from qdrant_client import QdrantClient, models\n",
        "\n",
        "exlusioner = models.PayloadSelectorExclude(exclude=[\"chunk\", \"text_id\"])\n",
        "\n",
        "q_client.search(\n",
        "    collection_name=\"arxiv_chunks\",\n",
        "    query_vector=(\"summary\" ,get_text_embedding(\"machine learning in sound and diffusion\")),\n",
        "    with_payload=exlusioner,\n",
        "    limit=2\n",
        ")"
      ],
      "metadata": {
        "colab": {
          "base_uri": "https://localhost:8080/"
        },
        "id": "62Q_kVIEweJw",
        "outputId": "0f716e0b-213e-45c7-994b-275e889da75a"
      },
      "execution_count": 13,
      "outputs": [
        {
          "output_type": "execute_result",
          "data": {
            "text/plain": [
              "[ScoredPoint(id='4b6c8500-63ec-4802-9e64-c11f8f0a50f8', version=0, score=0.41360056, payload={'title': 'Diffsound: Discrete Diffusion Model for Text-to-sound Generation', 'source': 'http://arxiv.org/pdf/2207.09983', 'authors': ['Dongchao Yang', 'Jianwei Yu', 'Helin Wang', 'Wen Wang', 'Chao Weng', 'Yuexian Zou', 'Dong Yu'], 'summary': 'Generating sound effects that humans want is an important topic. However,\\nthere are few studies in this area for sound generation. In this study, we\\ninvestigate generating sound conditioned on a text prompt and propose a novel\\ntext-to-sound generation framework that consists of a text encoder, a Vector\\nQuantized Variational Autoencoder (VQ-VAE), a decoder, and a vocoder. The\\nframework first uses the decoder to transfer the text features extracted from\\nthe text encoder to a mel-spectrogram with the help of VQ-VAE, and then the\\nvocoder is used to transform the generated mel-spectrogram into a waveform. We\\nfound that the decoder significantly influences the generation performance.\\nThus, we focus on designing a good decoder in this study. We begin with the\\ntraditional autoregressive decoder, which has been proved as a state-of-the-art\\nmethod in previous sound generation works. However, the AR decoder always\\npredicts the mel-spectrogram tokens one by one in order, which introduces the\\nunidirectional bias and accumulation of errors problems. Moreover, with the AR\\ndecoder, the sound generation time increases linearly with the sound duration.\\nTo overcome the shortcomings introduced by AR decoders, we propose a\\nnon-autoregressive decoder based on the discrete diffusion model, named\\nDiffsound. Specifically, the Diffsound predicts all of the mel-spectrogram\\ntokens in one step and then refines the predicted tokens in the next step, so\\nthe best-predicted results can be obtained after several steps. Our experiments\\nshow that our proposed Diffsound not only produces better text-to-sound\\ngeneration results when compared with the AR decoder but also has a faster\\ngeneration speed, e.g., MOS: 3.56 \\\\textit{v.s} 2.786, and the generation speed\\nis five times faster than the AR decoder.'}, vector=None, shard_key=None),\n",
              " ScoredPoint(id='0748d87a-1d9b-45bb-80ba-5e9de8c3b3f5', version=0, score=0.31981045, payload={'title': 'A framework for the extraction of Deep Neural Networks by leveraging public data', 'source': 'http://arxiv.org/pdf/1905.09165', 'authors': ['Soham Pal', 'Yash Gupta', 'Aditya Shukla', 'Aditya Kanade', 'Shirish Shevade', 'Vinod Ganapathy'], 'summary': 'Machine learning models trained on confidential datasets are increasingly\\nbeing deployed for profit. Machine Learning as a Service (MLaaS) has made such\\nmodels easily accessible to end-users. Prior work has developed model\\nextraction attacks, in which an adversary extracts an approximation of MLaaS\\nmodels by making black-box queries to it. However, none of these works is able\\nto satisfy all the three essential criteria for practical model extraction: (1)\\nthe ability to work on deep learning models, (2) the non-requirement of domain\\nknowledge and (3) the ability to work with a limited query budget. We design a\\nmodel extraction framework that makes use of active learning and large public\\ndatasets to satisfy them. We demonstrate that it is possible to use this\\nframework to steal deep classifiers trained on a variety of datasets from image\\nand text domains. By querying a model via black-box access for its top\\nprediction, our framework improves performance on an average over a uniform\\nnoise baseline by 4.70x for image tasks and 2.11x for text tasks respectively,\\nwhile using only 30% (30,000 samples) of the public dataset at its disposal.'}, vector=None, shard_key=None)]"
            ]
          },
          "metadata": {},
          "execution_count": 13
        }
      ]
    },
    {
      "cell_type": "code",
      "source": [
        "author_filter = models.Filter(\n",
        "    should=[\n",
        "        models.FieldCondition(\n",
        "            key=\"authors\",\n",
        "            match=models.MatchValue(value=\"Dong Yu\")\n",
        "            )\n",
        "            ])\n",
        "\n",
        "q_client.search(\n",
        "    collection_name=\"arxiv_chunks\",\n",
        "    query_vector=(\"summary\", get_text_embedding(\"machine learning in sound and diffusion\")),\n",
        "    query_filter=author_filter,\n",
        "    limit=5\n",
        ")"
      ],
      "metadata": {
        "colab": {
          "base_uri": "https://localhost:8080/"
        },
        "id": "3n26DGN1wi_I",
        "outputId": "e990e3a7-56c8-4c4d-cacf-13cafa373ffb"
      },
      "execution_count": 14,
      "outputs": [
        {
          "output_type": "execute_result",
          "data": {
            "text/plain": [
              "[ScoredPoint(id='4b6c8500-63ec-4802-9e64-c11f8f0a50f8', version=0, score=0.41373032, payload={'text_id': '4b6c8500-63ec-4802-9e64-c11f8f0a50f8', 'title': 'Diffsound: Discrete Diffusion Model for Text-to-sound Generation', 'source': 'http://arxiv.org/pdf/2207.09983', 'authors': ['Dongchao Yang', 'Jianwei Yu', 'Helin Wang', 'Wen Wang', 'Chao Weng', 'Yuexian Zou', 'Dong Yu'], 'chunk': 'that it can effectively alleviate the unidirectional bias and the\\naccumulated prediction error problems. We adopt the idea\\nfrom diffusion models, which use a forward process to corrupt\\nthe original mel-spectrogram tokens in Tsteps, and then let the\\nmodel learn to recover the original tokens in a reverse process.\\nSpeciﬁcally, in the forward process, we deﬁne a transition\\nmatrix that denotes probability of each token transfer to a\\nrandom token or a pre-deﬁned MASK token. By using the\\ntransition matrix, the original tokens x0\\x18q(x0)transfer\\ninto a stationary distribution p(xT). In the reverse process,\\nwe let the network learn to recover the original tokens from\\nxT\\x18p(xT)conditioned on the text features. Figure 1\\n(c) shows an example of non-autoregressive mel-spectrogram\\ntokens generation.\\nTo address the problem of lacking text-audio pairs, we\\nVQ-V AE\\nSpectrogram  \\nDecoderSpectrogram Codebook\\nZ2Z3 Z1 Z4 ZK\\nDiscriminator\\nspectrogram tokensQ(.)Spectrogram  \\nEncoder51 739Fig. 2. The overall architecture of VQ-V AE, which consists of four parts:', 'summary': 'Generating sound effects that humans want is an important topic. However,\\nthere are few studies in this area for sound generation. In this study, we\\ninvestigate generating sound conditioned on a text prompt and propose a novel\\ntext-to-sound generation framework that consists of a text encoder, a Vector\\nQuantized Variational Autoencoder (VQ-VAE), a decoder, and a vocoder. The\\nframework first uses the decoder to transfer the text features extracted from\\nthe text encoder to a mel-spectrogram with the help of VQ-VAE, and then the\\nvocoder is used to transform the generated mel-spectrogram into a waveform. We\\nfound that the decoder significantly influences the generation performance.\\nThus, we focus on designing a good decoder in this study. We begin with the\\ntraditional autoregressive decoder, which has been proved as a state-of-the-art\\nmethod in previous sound generation works. However, the AR decoder always\\npredicts the mel-spectrogram tokens one by one in order, which introduces the\\nunidirectional bias and accumulation of errors problems. Moreover, with the AR\\ndecoder, the sound generation time increases linearly with the sound duration.\\nTo overcome the shortcomings introduced by AR decoders, we propose a\\nnon-autoregressive decoder based on the discrete diffusion model, named\\nDiffsound. Specifically, the Diffsound predicts all of the mel-spectrogram\\ntokens in one step and then refines the predicted tokens in the next step, so\\nthe best-predicted results can be obtained after several steps. Our experiments\\nshow that our proposed Diffsound not only produces better text-to-sound\\ngeneration results when compared with the AR decoder but also has a faster\\ngeneration speed, e.g., MOS: 3.56 \\\\textit{v.s} 2.786, and the generation speed\\nis five times faster than the AR decoder.'}, vector=None, shard_key=None)]"
            ]
          },
          "metadata": {},
          "execution_count": 14
        }
      ]
    },
    {
      "cell_type": "code",
      "source": [
        "def search(\n",
        "    named_vector_to_search: str,\n",
        "    input_query: str,\n",
        "    limit: int = 5,\n",
        "    client: QdrantClient = q_client,\n",
        "    collection_name: str = \"arxiv_chunks\",\n",
        "    **kwargs):\n",
        "    \"\"\"\n",
        "    Perform a vector search in the Qdrant database based on the input query.\n",
        "\n",
        "    This method takes an input query string, converts it into a vector embedding using the\n",
        "    \"text-embedding-3-large\" model, and searches for the closest matching vectors in the\n",
        "    Qdrant database. The search results are returned as a list of dictionaries containing\n",
        "    the item ID, similarity score, and payload information\n",
        "\n",
        "    Args:\n",
        "        input_query (str): The input query string to search for.\n",
        "        named_vector_to_search: the vector you want to search against\n",
        "        limit (int, optional): The maximum number of search results to return. Default is 3.\n",
        "        kwargs: Additional keyword arguments to pass to the Qdrant search method.\n",
        "\n",
        "    Returns:\n",
        "        list: A list of dictionaries representing the search results. Each dictionary contains\n",
        "              the following keys:\n",
        "              - \"id\": The ID of the matching item in the Qdrant database.\n",
        "              - \"similarity_score\": The similarity score between the input query and the matching item.\n",
        "              - metadata from the payload\n",
        "\n",
        "    \"\"\"\n",
        "\n",
        "    input_vector = get_text_embedding(input_query)\n",
        "\n",
        "    search_result = client.search(\n",
        "        collection_name=collection_name,\n",
        "        query_vector=(named_vector_to_search, input_vector),\n",
        "        limit=limit,\n",
        "        with_payload=True,\n",
        "        **kwargs\n",
        "    )\n",
        "\n",
        "    result = []\n",
        "    for item in search_result:\n",
        "        similarity_score = item.score\n",
        "        payload = item.payload\n",
        "        data = {\n",
        "            \"similarity_score\": similarity_score,\n",
        "            \"summary\": payload.get(\"summary\"),\n",
        "            \"title\": payload.get(\"title\"),\n",
        "            \"source\": payload.get(\"source\"),\n",
        "            \"authors\": payload.get(\"authors\")\n",
        "            }\n",
        "        result.append(data)\n",
        "\n",
        "    return result"
      ],
      "metadata": {
        "id": "Am6L7xz6wuqQ"
      },
      "execution_count": 15,
      "outputs": []
    },
    {
      "cell_type": "code",
      "source": [
        "QUERY_STRING = \"agents, reasoning, chain-of-thought, few-shot prompting\"\n",
        "\n",
        "search(\n",
        "    named_vector_to_search= \"summary\",\n",
        "    input_query=QUERY_STRING\n",
        "    )"
      ],
      "metadata": {
        "colab": {
          "base_uri": "https://localhost:8080/"
        },
        "id": "dsVg0SaKwzQi",
        "outputId": "e1248443-8cfd-46f3-f28c-2bbea87aaeb2"
      },
      "execution_count": 16,
      "outputs": [
        {
          "output_type": "execute_result",
          "data": {
            "text/plain": [
              "[{'similarity_score': 0.58828825,\n",
              "  'summary': 'The past decade has witnessed dramatic gains in natural language processing\\nand an unprecedented scaling of large language models. These developments have\\nbeen accelerated by the advent of few-shot techniques such as chain of thought\\n(CoT) prompting. Specifically, CoT pushes the performance of large language\\nmodels in a few-shot setup by augmenting the prompts with intermediate steps.\\nDespite impressive results across various tasks, the reasons behind their\\nsuccess have not been explored. This work uses counterfactual prompting to\\ndevelop a deeper understanding of CoT-based few-shot prompting mechanisms in\\nlarge language models. We first systematically identify and define the key\\ncomponents of a prompt: symbols, patterns, and text. Then, we devise and\\nconduct an exhaustive set of experiments across four different tasks, by\\nquerying the model with counterfactual prompts where only one of these\\ncomponents is altered. Our experiments across three models (PaLM, GPT-3, and\\nCODEX) reveal several surprising findings and brings into question the\\nconventional wisdom around few-shot prompting. First, the presence of factual\\npatterns in a prompt is practically immaterial to the success of CoT. Second,\\nour results conclude that the primary role of intermediate steps may not be to\\nfacilitate learning how to solve a task. The intermediate steps are rather a\\nbeacon for the model to realize what symbols to replicate in the output to form\\na factual answer. Further, text imbues patterns with commonsense knowledge and\\nmeaning. Our empirical and qualitative analysis reveals that a symbiotic\\nrelationship between text and patterns explains the success of few-shot\\nprompting: text helps extract commonsense from the question to help patterns,\\nand patterns enforce task understanding and direct text generation.',\n",
              "  'title': 'Text and Patterns: For Effective Chain of Thought, It Takes Two to Tango',\n",
              "  'source': 'http://arxiv.org/pdf/2209.07686',\n",
              "  'authors': ['Aman Madaan', 'Amir Yazdanbakhsh']},\n",
              " {'similarity_score': 0.53804713,\n",
              "  'summary': 'Few-shot prompting is a surprisingly powerful way to use Large Language\\nModels (LLMs) to solve various tasks. However, this approach struggles as the\\ntask complexity increases or when the individual reasoning steps of the task\\nthemselves are hard to learn, especially when embedded in more complex tasks.\\nTo address this, we propose Decomposed Prompting, a new approach to solve\\ncomplex tasks by decomposing them (via prompting) into simpler sub-tasks that\\ncan be delegated to a library of prompting-based LLMs dedicated to these\\nsub-tasks. This modular structure allows each prompt to be optimized for its\\nspecific sub-task, further decomposed if necessary, and even easily replaced\\nwith more effective prompts, trained models, or symbolic functions if desired.\\nWe show that the flexibility and modularity of Decomposed Prompting allows it\\nto outperform prior work on few-shot prompting using GPT3. On symbolic\\nreasoning tasks, we can further decompose sub-tasks that are hard for LLMs into\\neven simpler solvable sub-tasks. When the complexity comes from the input\\nlength, we can recursively decompose the task into the same task but with\\nsmaller inputs. We also evaluate our approach on textual multi-step reasoning\\ntasks: on long-context multi-hop QA task, we can more effectively teach the\\nsub-tasks via our separate sub-tasks prompts; and on open-domain multi-hop QA,\\nwe can incorporate a symbolic information retrieval within our decomposition\\nframework, leading to improved performance on both tasks. Datasets, Code and\\nPrompts available at https://github.com/allenai/DecomP.',\n",
              "  'title': 'Decomposed Prompting: A Modular Approach for Solving Complex Tasks',\n",
              "  'source': 'http://arxiv.org/pdf/2210.02406',\n",
              "  'authors': ['Tushar Khot',\n",
              "   'Harsh Trivedi',\n",
              "   'Matthew Finlayson',\n",
              "   'Yao Fu',\n",
              "   'Kyle Richardson',\n",
              "   'Peter Clark',\n",
              "   'Ashish Sabharwal']},\n",
              " {'similarity_score': 0.5377891,\n",
              "  'summary': 'Few-shot prompting is a surprisingly powerful way to use Large Language\\nModels (LLMs) to solve various tasks. However, this approach struggles as the\\ntask complexity increases or when the individual reasoning steps of the task\\nthemselves are hard to learn, especially when embedded in more complex tasks.\\nTo address this, we propose Decomposed Prompting, a new approach to solve\\ncomplex tasks by decomposing them (via prompting) into simpler sub-tasks that\\ncan be delegated to a library of prompting-based LLMs dedicated to these\\nsub-tasks. This modular structure allows each prompt to be optimized for its\\nspecific sub-task, further decomposed if necessary, and even easily replaced\\nwith more effective prompts, trained models, or symbolic functions if desired.\\nWe show that the flexibility and modularity of Decomposed Prompting allows it\\nto outperform prior work on few-shot prompting using GPT3. On symbolic\\nreasoning tasks, we can further decompose sub-tasks that are hard for LLMs into\\neven simpler solvable sub-tasks. When the complexity comes from the input\\nlength, we can recursively decompose the task into the same task but with\\nsmaller inputs. We also evaluate our approach on textual multi-step reasoning\\ntasks: on long-context multi-hop QA task, we can more effectively teach the\\nsub-tasks via our separate sub-tasks prompts; and on open-domain multi-hop QA,\\nwe can incorporate a symbolic information retrieval within our decomposition\\nframework, leading to improved performance on both tasks. Datasets, Code and\\nPrompts available at https://github.com/allenai/DecomP.',\n",
              "  'title': 'Decomposed Prompting: A Modular Approach for Solving Complex Tasks',\n",
              "  'source': 'http://arxiv.org/pdf/2210.02406',\n",
              "  'authors': ['Tushar Khot',\n",
              "   'Harsh Trivedi',\n",
              "   'Matthew Finlayson',\n",
              "   'Yao Fu',\n",
              "   'Kyle Richardson',\n",
              "   'Peter Clark',\n",
              "   'Ashish Sabharwal']},\n",
              " {'similarity_score': 0.535655,\n",
              "  'summary': \"We investigate the ability of language models to perform compositional\\nreasoning tasks where the overall solution depends on correctly composing the\\nanswers to sub-problems. We measure how often models can correctly answer all\\nsub-problems but not generate the overall solution, a ratio we call the\\ncompositionality gap. We evaluate this ratio by asking multi-hop questions with\\nanswers that require composing multiple facts unlikely to have been observed\\ntogether during pretraining. In the GPT-3 family of models, as model size\\nincreases we show that the single-hop question answering performance improves\\nfaster than the multi-hop performance does, therefore the compositionality gap\\ndoes not decrease. This surprising result suggests that while more powerful\\nmodels memorize and recall more factual knowledge, they show no corresponding\\nimprovement in their ability to perform this kind of compositional reasoning.\\n  We then demonstrate how elicitive prompting (such as chain of thought)\\nnarrows the compositionality gap by reasoning explicitly instead of implicitly.\\nWe present a new method, self-ask, that further improves on chain of thought.\\nIn our method, the model explicitly asks itself (and then answers) follow-up\\nquestions before answering the initial question. We finally show that\\nself-ask's structured prompting lets us easily plug in a search engine to\\nanswer the follow-up questions, which additionally improves accuracy.\",\n",
              "  'title': 'Measuring and Narrowing the Compositionality Gap in Language Models',\n",
              "  'source': 'http://arxiv.org/pdf/2210.03350',\n",
              "  'authors': ['Ofir Press',\n",
              "   'Muru Zhang',\n",
              "   'Sewon Min',\n",
              "   'Ludwig Schmidt',\n",
              "   'Noah A. Smith',\n",
              "   'Mike Lewis']},\n",
              " {'similarity_score': 0.51280075,\n",
              "  'summary': 'Humans can reason compositionally when presented with new tasks. Previous\\nresearch shows that appropriate prompting techniques enable large language\\nmodels (LLMs) to solve artificial compositional generalization tasks such as\\nSCAN. In this work, we identify additional challenges in more realistic\\nsemantic parsing tasks with larger vocabulary and refine these prompting\\ntechniques to address them. Our best method is based on least-to-most\\nprompting: it decomposes the problem using prompting-based syntactic parsing,\\nthen uses this decomposition to select appropriate exemplars and to\\nsequentially generate the semantic parse. This method allows us to set a new\\nstate of the art for CFQ while requiring only 1% of the training data used by\\ntraditional approaches. Due to the general nature of our approach, we expect\\nsimilar efforts will lead to new results in other tasks and domains, especially\\nfor knowledge-intensive applications.',\n",
              "  'title': 'Compositional Semantic Parsing with Large Language Models',\n",
              "  'source': 'http://arxiv.org/pdf/2209.15003',\n",
              "  'authors': ['Andrew Drozdov',\n",
              "   'Nathanael Schärli',\n",
              "   'Ekin Akyürek',\n",
              "   'Nathan Scales',\n",
              "   'Xinying Song',\n",
              "   'Xinyun Chen',\n",
              "   'Olivier Bousquet',\n",
              "   'Denny Zhou']}]"
            ]
          },
          "metadata": {},
          "execution_count": 16
        }
      ]
    },
    {
      "cell_type": "code",
      "source": [
        "search(\n",
        "    named_vector_to_search= \"summary\",\n",
        "    input_query=QUERY_STRING,\n",
        "    score_threshold=0.51\n",
        "    )"
      ],
      "metadata": {
        "colab": {
          "base_uri": "https://localhost:8080/"
        },
        "id": "Mezpf9jsw31j",
        "outputId": "5002253d-b07d-4ff7-9975-14aea95bd7da"
      },
      "execution_count": 17,
      "outputs": [
        {
          "output_type": "execute_result",
          "data": {
            "text/plain": [
              "[{'similarity_score': 0.58838326,\n",
              "  'summary': 'The past decade has witnessed dramatic gains in natural language processing\\nand an unprecedented scaling of large language models. These developments have\\nbeen accelerated by the advent of few-shot techniques such as chain of thought\\n(CoT) prompting. Specifically, CoT pushes the performance of large language\\nmodels in a few-shot setup by augmenting the prompts with intermediate steps.\\nDespite impressive results across various tasks, the reasons behind their\\nsuccess have not been explored. This work uses counterfactual prompting to\\ndevelop a deeper understanding of CoT-based few-shot prompting mechanisms in\\nlarge language models. We first systematically identify and define the key\\ncomponents of a prompt: symbols, patterns, and text. Then, we devise and\\nconduct an exhaustive set of experiments across four different tasks, by\\nquerying the model with counterfactual prompts where only one of these\\ncomponents is altered. Our experiments across three models (PaLM, GPT-3, and\\nCODEX) reveal several surprising findings and brings into question the\\nconventional wisdom around few-shot prompting. First, the presence of factual\\npatterns in a prompt is practically immaterial to the success of CoT. Second,\\nour results conclude that the primary role of intermediate steps may not be to\\nfacilitate learning how to solve a task. The intermediate steps are rather a\\nbeacon for the model to realize what symbols to replicate in the output to form\\na factual answer. Further, text imbues patterns with commonsense knowledge and\\nmeaning. Our empirical and qualitative analysis reveals that a symbiotic\\nrelationship between text and patterns explains the success of few-shot\\nprompting: text helps extract commonsense from the question to help patterns,\\nand patterns enforce task understanding and direct text generation.',\n",
              "  'title': 'Text and Patterns: For Effective Chain of Thought, It Takes Two to Tango',\n",
              "  'source': 'http://arxiv.org/pdf/2209.07686',\n",
              "  'authors': ['Aman Madaan', 'Amir Yazdanbakhsh']},\n",
              " {'similarity_score': 0.5381479,\n",
              "  'summary': 'Few-shot prompting is a surprisingly powerful way to use Large Language\\nModels (LLMs) to solve various tasks. However, this approach struggles as the\\ntask complexity increases or when the individual reasoning steps of the task\\nthemselves are hard to learn, especially when embedded in more complex tasks.\\nTo address this, we propose Decomposed Prompting, a new approach to solve\\ncomplex tasks by decomposing them (via prompting) into simpler sub-tasks that\\ncan be delegated to a library of prompting-based LLMs dedicated to these\\nsub-tasks. This modular structure allows each prompt to be optimized for its\\nspecific sub-task, further decomposed if necessary, and even easily replaced\\nwith more effective prompts, trained models, or symbolic functions if desired.\\nWe show that the flexibility and modularity of Decomposed Prompting allows it\\nto outperform prior work on few-shot prompting using GPT3. On symbolic\\nreasoning tasks, we can further decompose sub-tasks that are hard for LLMs into\\neven simpler solvable sub-tasks. When the complexity comes from the input\\nlength, we can recursively decompose the task into the same task but with\\nsmaller inputs. We also evaluate our approach on textual multi-step reasoning\\ntasks: on long-context multi-hop QA task, we can more effectively teach the\\nsub-tasks via our separate sub-tasks prompts; and on open-domain multi-hop QA,\\nwe can incorporate a symbolic information retrieval within our decomposition\\nframework, leading to improved performance on both tasks. Datasets, Code and\\nPrompts available at https://github.com/allenai/DecomP.',\n",
              "  'title': 'Decomposed Prompting: A Modular Approach for Solving Complex Tasks',\n",
              "  'source': 'http://arxiv.org/pdf/2210.02406',\n",
              "  'authors': ['Tushar Khot',\n",
              "   'Harsh Trivedi',\n",
              "   'Matthew Finlayson',\n",
              "   'Yao Fu',\n",
              "   'Kyle Richardson',\n",
              "   'Peter Clark',\n",
              "   'Ashish Sabharwal']},\n",
              " {'similarity_score': 0.53788984,\n",
              "  'summary': 'Few-shot prompting is a surprisingly powerful way to use Large Language\\nModels (LLMs) to solve various tasks. However, this approach struggles as the\\ntask complexity increases or when the individual reasoning steps of the task\\nthemselves are hard to learn, especially when embedded in more complex tasks.\\nTo address this, we propose Decomposed Prompting, a new approach to solve\\ncomplex tasks by decomposing them (via prompting) into simpler sub-tasks that\\ncan be delegated to a library of prompting-based LLMs dedicated to these\\nsub-tasks. This modular structure allows each prompt to be optimized for its\\nspecific sub-task, further decomposed if necessary, and even easily replaced\\nwith more effective prompts, trained models, or symbolic functions if desired.\\nWe show that the flexibility and modularity of Decomposed Prompting allows it\\nto outperform prior work on few-shot prompting using GPT3. On symbolic\\nreasoning tasks, we can further decompose sub-tasks that are hard for LLMs into\\neven simpler solvable sub-tasks. When the complexity comes from the input\\nlength, we can recursively decompose the task into the same task but with\\nsmaller inputs. We also evaluate our approach on textual multi-step reasoning\\ntasks: on long-context multi-hop QA task, we can more effectively teach the\\nsub-tasks via our separate sub-tasks prompts; and on open-domain multi-hop QA,\\nwe can incorporate a symbolic information retrieval within our decomposition\\nframework, leading to improved performance on both tasks. Datasets, Code and\\nPrompts available at https://github.com/allenai/DecomP.',\n",
              "  'title': 'Decomposed Prompting: A Modular Approach for Solving Complex Tasks',\n",
              "  'source': 'http://arxiv.org/pdf/2210.02406',\n",
              "  'authors': ['Tushar Khot',\n",
              "   'Harsh Trivedi',\n",
              "   'Matthew Finlayson',\n",
              "   'Yao Fu',\n",
              "   'Kyle Richardson',\n",
              "   'Peter Clark',\n",
              "   'Ashish Sabharwal']},\n",
              " {'similarity_score': 0.5357613,\n",
              "  'summary': \"We investigate the ability of language models to perform compositional\\nreasoning tasks where the overall solution depends on correctly composing the\\nanswers to sub-problems. We measure how often models can correctly answer all\\nsub-problems but not generate the overall solution, a ratio we call the\\ncompositionality gap. We evaluate this ratio by asking multi-hop questions with\\nanswers that require composing multiple facts unlikely to have been observed\\ntogether during pretraining. In the GPT-3 family of models, as model size\\nincreases we show that the single-hop question answering performance improves\\nfaster than the multi-hop performance does, therefore the compositionality gap\\ndoes not decrease. This surprising result suggests that while more powerful\\nmodels memorize and recall more factual knowledge, they show no corresponding\\nimprovement in their ability to perform this kind of compositional reasoning.\\n  We then demonstrate how elicitive prompting (such as chain of thought)\\nnarrows the compositionality gap by reasoning explicitly instead of implicitly.\\nWe present a new method, self-ask, that further improves on chain of thought.\\nIn our method, the model explicitly asks itself (and then answers) follow-up\\nquestions before answering the initial question. We finally show that\\nself-ask's structured prompting lets us easily plug in a search engine to\\nanswer the follow-up questions, which additionally improves accuracy.\",\n",
              "  'title': 'Measuring and Narrowing the Compositionality Gap in Language Models',\n",
              "  'source': 'http://arxiv.org/pdf/2210.03350',\n",
              "  'authors': ['Ofir Press',\n",
              "   'Muru Zhang',\n",
              "   'Sewon Min',\n",
              "   'Ludwig Schmidt',\n",
              "   'Noah A. Smith',\n",
              "   'Mike Lewis']},\n",
              " {'similarity_score': 0.512863,\n",
              "  'summary': 'Humans can reason compositionally when presented with new tasks. Previous\\nresearch shows that appropriate prompting techniques enable large language\\nmodels (LLMs) to solve artificial compositional generalization tasks such as\\nSCAN. In this work, we identify additional challenges in more realistic\\nsemantic parsing tasks with larger vocabulary and refine these prompting\\ntechniques to address them. Our best method is based on least-to-most\\nprompting: it decomposes the problem using prompting-based syntactic parsing,\\nthen uses this decomposition to select appropriate exemplars and to\\nsequentially generate the semantic parse. This method allows us to set a new\\nstate of the art for CFQ while requiring only 1% of the training data used by\\ntraditional approaches. Due to the general nature of our approach, we expect\\nsimilar efforts will lead to new results in other tasks and domains, especially\\nfor knowledge-intensive applications.',\n",
              "  'title': 'Compositional Semantic Parsing with Large Language Models',\n",
              "  'source': 'http://arxiv.org/pdf/2209.15003',\n",
              "  'authors': ['Andrew Drozdov',\n",
              "   'Nathanael Schärli',\n",
              "   'Ekin Akyürek',\n",
              "   'Nathan Scales',\n",
              "   'Xinying Song',\n",
              "   'Xinyun Chen',\n",
              "   'Olivier Bousquet',\n",
              "   'Denny Zhou']}]"
            ]
          },
          "metadata": {},
          "execution_count": 17
        }
      ]
    },
    {
      "cell_type": "code",
      "source": [
        "q_client.close()"
      ],
      "metadata": {
        "id": "zT4z9jrVxSVK"
      },
      "execution_count": 18,
      "outputs": []
    }
  ]
}