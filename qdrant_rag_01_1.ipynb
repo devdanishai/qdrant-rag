{
  "nbformat": 4,
  "nbformat_minor": 0,
  "metadata": {
    "colab": {
      "provenance": []
    },
    "kernelspec": {
      "name": "python3",
      "display_name": "Python 3"
    },
    "language_info": {
      "name": "python"
    }
  },
  "cells": [
    {
      "cell_type": "markdown",
      "source": [
        "date:18/dec/2024\n",
        "this note book have code to create collection on qdrant cloud\n",
        "this code is same to same as qdrant-rag-01 but in that notebook i use danishammar112233 qdrant id and in this i use global998877 qdrant id."
      ],
      "metadata": {
        "id": "15KtXGMcBQhL"
      }
    },
    {
      "cell_type": "code",
      "source": [],
      "metadata": {
        "id": "r6no_sYBCbQs"
      },
      "execution_count": null,
      "outputs": []
    },
    {
      "cell_type": "code",
      "source": [
        "!pip install qdrant-client==1.9.0"
      ],
      "metadata": {
        "colab": {
          "base_uri": "https://localhost:8080/"
        },
        "id": "MhOZ17jO4wZI",
        "outputId": "82ce4e52-a261-42bd-9fd9-2c2a5770d7f2"
      },
      "execution_count": null,
      "outputs": [
        {
          "output_type": "stream",
          "name": "stdout",
          "text": [
            "Requirement already satisfied: qdrant-client==1.9.0 in /usr/local/lib/python3.10/dist-packages (1.9.0)\n",
            "Requirement already satisfied: grpcio>=1.41.0 in /usr/local/lib/python3.10/dist-packages (from qdrant-client==1.9.0) (1.68.1)\n",
            "Requirement already satisfied: grpcio-tools>=1.41.0 in /usr/local/lib/python3.10/dist-packages (from qdrant-client==1.9.0) (1.68.1)\n",
            "Requirement already satisfied: httpx>=0.20.0 in /usr/local/lib/python3.10/dist-packages (from httpx[http2]>=0.20.0->qdrant-client==1.9.0) (0.28.1)\n",
            "Requirement already satisfied: numpy>=1.21 in /usr/local/lib/python3.10/dist-packages (from qdrant-client==1.9.0) (1.26.4)\n",
            "Requirement already satisfied: portalocker<3.0.0,>=2.7.0 in /usr/local/lib/python3.10/dist-packages (from qdrant-client==1.9.0) (2.10.1)\n",
            "Requirement already satisfied: pydantic>=1.10.8 in /usr/local/lib/python3.10/dist-packages (from qdrant-client==1.9.0) (2.10.3)\n",
            "Requirement already satisfied: urllib3<3,>=1.26.14 in /usr/local/lib/python3.10/dist-packages (from qdrant-client==1.9.0) (2.2.3)\n",
            "Requirement already satisfied: protobuf<6.0dev,>=5.26.1 in /usr/local/lib/python3.10/dist-packages (from grpcio-tools>=1.41.0->qdrant-client==1.9.0) (5.29.1)\n",
            "Requirement already satisfied: setuptools in /usr/local/lib/python3.10/dist-packages (from grpcio-tools>=1.41.0->qdrant-client==1.9.0) (75.1.0)\n",
            "Requirement already satisfied: anyio in /usr/local/lib/python3.10/dist-packages (from httpx>=0.20.0->httpx[http2]>=0.20.0->qdrant-client==1.9.0) (3.7.1)\n",
            "Requirement already satisfied: certifi in /usr/local/lib/python3.10/dist-packages (from httpx>=0.20.0->httpx[http2]>=0.20.0->qdrant-client==1.9.0) (2024.8.30)\n",
            "Requirement already satisfied: httpcore==1.* in /usr/local/lib/python3.10/dist-packages (from httpx>=0.20.0->httpx[http2]>=0.20.0->qdrant-client==1.9.0) (1.0.7)\n",
            "Requirement already satisfied: idna in /usr/local/lib/python3.10/dist-packages (from httpx>=0.20.0->httpx[http2]>=0.20.0->qdrant-client==1.9.0) (3.10)\n",
            "Requirement already satisfied: h11<0.15,>=0.13 in /usr/local/lib/python3.10/dist-packages (from httpcore==1.*->httpx>=0.20.0->httpx[http2]>=0.20.0->qdrant-client==1.9.0) (0.14.0)\n",
            "Requirement already satisfied: h2<5,>=3 in /usr/local/lib/python3.10/dist-packages (from httpx[http2]>=0.20.0->qdrant-client==1.9.0) (4.1.0)\n",
            "Requirement already satisfied: annotated-types>=0.6.0 in /usr/local/lib/python3.10/dist-packages (from pydantic>=1.10.8->qdrant-client==1.9.0) (0.7.0)\n",
            "Requirement already satisfied: pydantic-core==2.27.1 in /usr/local/lib/python3.10/dist-packages (from pydantic>=1.10.8->qdrant-client==1.9.0) (2.27.1)\n",
            "Requirement already satisfied: typing-extensions>=4.12.2 in /usr/local/lib/python3.10/dist-packages (from pydantic>=1.10.8->qdrant-client==1.9.0) (4.12.2)\n",
            "Requirement already satisfied: hyperframe<7,>=6.0 in /usr/local/lib/python3.10/dist-packages (from h2<5,>=3->httpx[http2]>=0.20.0->qdrant-client==1.9.0) (6.0.1)\n",
            "Requirement already satisfied: hpack<5,>=4.0 in /usr/local/lib/python3.10/dist-packages (from h2<5,>=3->httpx[http2]>=0.20.0->qdrant-client==1.9.0) (4.0.0)\n",
            "Requirement already satisfied: sniffio>=1.1 in /usr/local/lib/python3.10/dist-packages (from anyio->httpx>=0.20.0->httpx[http2]>=0.20.0->qdrant-client==1.9.0) (1.3.1)\n",
            "Requirement already satisfied: exceptiongroup in /usr/local/lib/python3.10/dist-packages (from anyio->httpx>=0.20.0->httpx[http2]>=0.20.0->qdrant-client==1.9.0) (1.2.2)\n"
          ]
        }
      ]
    },
    {
      "cell_type": "code",
      "source": [
        "from qdrant_client import QdrantClient\n",
        "from qdrant_client.http import models"
      ],
      "metadata": {
        "id": "gwL0HGJW81nS"
      },
      "execution_count": null,
      "outputs": []
    },
    {
      "cell_type": "code",
      "source": [
        "from google.colab import userdata\n",
        "QDRANT_URL=userdata.get('QDRANT_URL')\n",
        "QDRANT_API_KEY=userdata.get('QDRANT_API_KEY')"
      ],
      "metadata": {
        "id": "x90Tdzz-_J86"
      },
      "execution_count": 19,
      "outputs": []
    },
    {
      "cell_type": "code",
      "source": [
        "#print(QDRANT_API_KEY)\n",
        "#print(QDRANT_URL)"
      ],
      "metadata": {
        "id": "D2uvL9PS_wTK"
      },
      "execution_count": 24,
      "outputs": []
    },
    {
      "cell_type": "code",
      "source": [
        "# Initialize Qdrant client with your Qdrant Cloud URL and API Key\n",
        "qdrant_client = QdrantClient(\n",
        "    url= QDRANT_URL,\n",
        "    api_key= QDRANT_API_KEY  # Replace with your actual API key\n",
        ")\n",
        "\n",
        "# Print the collections (should be empty initially if no collections exist)\n",
        "print(qdrant_client.get_collections())"
      ],
      "metadata": {
        "colab": {
          "base_uri": "https://localhost:8080/"
        },
        "id": "-uqaL-7j8zak",
        "outputId": "eb5325e9-7c32-4a44-ffa0-3e8a4bbe70d4"
      },
      "execution_count": 22,
      "outputs": [
        {
          "output_type": "stream",
          "name": "stdout",
          "text": [
            "collections=[]\n"
          ]
        }
      ]
    },
    {
      "cell_type": "code",
      "source": [
        "# Define vector parameters for your collection\n",
        "collection_config = models.VectorParams(\n",
        "    size=3072,\n",
        "    distance=models.Distance.COSINE\n",
        ")\n",
        "\n",
        "# Create a collection\n",
        "qdrant_client.create_collection(\n",
        "    collection_name=\"first_collection\",\n",
        "    vectors_config=collection_config\n",
        ")\n",
        "\n",
        "# Confirm collections again\n",
        "print(qdrant_client.get_collections())\n"
      ],
      "metadata": {
        "colab": {
          "base_uri": "https://localhost:8080/"
        },
        "id": "6L_G1LUi8hqz",
        "outputId": "51c6c682-0c0f-4035-9f86-af509811e280"
      },
      "execution_count": null,
      "outputs": [
        {
          "output_type": "stream",
          "name": "stdout",
          "text": [
            "collections=[CollectionDescription(name='first_collection')]\n"
          ]
        }
      ]
    },
    {
      "cell_type": "code",
      "source": [
        "#how to delete collection\n",
        "qdrant_client.delete_collection(collection_name=\"first_collection\")"
      ],
      "metadata": {
        "colab": {
          "base_uri": "https://localhost:8080/"
        },
        "id": "cOjp-z2e53XU",
        "outputId": "d972b4f7-7ed2-4a5e-c332-560532a02895"
      },
      "execution_count": null,
      "outputs": [
        {
          "output_type": "execute_result",
          "data": {
            "text/plain": [
              "True"
            ]
          },
          "metadata": {},
          "execution_count": 17
        }
      ]
    },
    {
      "cell_type": "code",
      "source": [
        "qdrant_client.close()"
      ],
      "metadata": {
        "id": "AoNroMeT55MB"
      },
      "execution_count": null,
      "outputs": []
    }
  ]
}